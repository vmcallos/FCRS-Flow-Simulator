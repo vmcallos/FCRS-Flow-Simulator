{
 "cells": [
  {
   "cell_type": "code",
   "execution_count": 13,
   "metadata": {
    "collapsed": false
   },
   "outputs": [
    {
     "name": "stdout",
     "output_type": "stream",
     "text": [
      "2777.1195376846617 405.81466030352686 2811.704862899988\n"
     ]
    }
   ],
   "source": [
    "from iapws import IAPWS97\n",
    "sat_steam=IAPWS97(P=1,x=1)                #saturated steam with known P\n",
    "sat_liquid=IAPWS97(T=370, x=0)            #saturated liquid with known T\n",
    "steam=IAPWS97(P=2.5, T=500)               #steam with known P and T\n",
    "print(sat_steam.h, sat_liquid.h, steam.h) #calculated enthalpies"
   ]
  },
  {
   "cell_type": "code",
   "execution_count": 42,
   "metadata": {
    "collapsed": false
   },
   "outputs": [
    {
     "name": "stdout",
     "output_type": "stream",
     "text": [
      "738.5346038117424 447.55501140953675\n",
      "447.55501140953675\n",
      "438.74501140954476\n",
      "699.9461150371031\n"
     ]
    }
   ],
   "source": [
    "sat_liquid=IAPWS97(P=0.88,x=0)                #saturated liquid with known P\n",
    "print (sat_liquid.h, sat_liquid.T)\n",
    "t_in = sat_liquid.T\n",
    "print(t_in)\n",
    "\n",
    "# @0.88 Mpaa; tsat = 447.55501140953675 and h = 738.5346038117424\n",
    "# what if h becomes 700; what is new t_sat?\n",
    "h_out = 700\n",
    "while 1:\n",
    "    left = h_out\n",
    "    out_liquid = IAPWS97(T=t_in, x=0)\n",
    "    right = out_liquid.h\n",
    "    t_in = t_in - 0.01\n",
    "    if (right - left <= 0): #Check if Left = Right\n",
    "            break\n",
    "print(t_in)\n",
    "new_liquid = IAPWS97(T=t_in, x=0)    \n",
    "print(new_liquid.h)"
   ]
  },
  {
   "cell_type": "code",
   "execution_count": 14,
   "metadata": {
    "collapsed": false
   },
   "outputs": [
    {
     "name": "stdout",
     "output_type": "stream",
     "text": [
      "steam 2756.138889536332 6.7591658046801495 158.8324239544848\n",
      "brine 809.9841392137783 2.2409616489029256 190.54211565484945\n",
      "0.25630845455170304\n"
     ]
    }
   ],
   "source": [
    "steam = IAPWS97(P=0.6, x=1)\n",
    "print('steam',steam.h, steam.s, steam.T-273.15)\n",
    "steam = IAPWS97(P=1.27, x=0)\n",
    "print('brine',steam.h, steam.s, steam.T-273.15)\n",
    "x = (1279-762.6828443354106)/(2777.1195376846617-762.6828443354106)\n",
    "2.138431350899127 + x * (6.58497899635217-2.138431350899127)\n",
    "print(x)"
   ]
  },
  {
   "cell_type": "code",
   "execution_count": 15,
   "metadata": {
    "collapsed": true
   },
   "outputs": [],
   "source": [
    "steam = IAPWS97(P=0.65, x=1)\n",
    "#print(steam.h, steam.s)\n",
    "#h1 = steam.h\n",
    "#s1 = steam.s\n",
    "# T=20 83.91989629304085 0.2965031277627545\n",
    "# P=0.8\n",
    "#T = 50 209.3362003948904 0.7037939046604744\n",
    "#T=25 104.83838586274732 0.3672563027910093\n",
    "ho = 104.83838586274732\n",
    "so = 0.3672563027910093\n",
    "to = 298.15\n",
    "h1 = 1279#1784#2768.302464663743\n",
    "s1 = 3.278#4.36 #6.661542379916016\n",
    "sf = 46.6\n",
    "\n",
    "ex = ((h1-ho)-298.15*(s1-so))\n",
    "#print(ex, ex*sf)"
   ]
  },
  {
   "cell_type": "code",
   "execution_count": 1,
   "metadata": {
    "collapsed": false
   },
   "outputs": [
    {
     "data": {
      "text/plain": [
       "1.9091502371240618"
      ]
     },
     "execution_count": 1,
     "metadata": {},
     "output_type": "execute_result"
    }
   ],
   "source": [
    "co2 = 776.713340559\n",
    "h2s = 25.2400098638\n",
    "\n",
    "def calc_ncg(co2, h2s):\n",
    "    wt_co2 = co2 * 44 * 1e-3\n",
    "    wt_h2s = h2s * 34 * 1e-3\n",
    "    wt_h2o = 100 * 18\n",
    "    total_wt = wt_h2o + wt_co2 + wt_h2s\n",
    "    return (wt_co2 + wt_h2s) / total_wt *100\n",
    "\n",
    "calc_ncg(co2, h2s)"
   ]
  },
  {
   "cell_type": "code",
   "execution_count": 3,
   "metadata": {
    "collapsed": false
   },
   "outputs": [
    {
     "data": {
      "text/plain": [
       "5"
      ]
     },
     "execution_count": 3,
     "metadata": {},
     "output_type": "execute_result"
    }
   ],
   "source": [
    "def lateRide(n):\n",
    "    if n >= 0 and n < 60*24:\n",
    "        x = n//60\n",
    "        r = n%60\n",
    "        x = str(x)+str(r)\n",
    "        total = 0\n",
    "        for digit in x:\n",
    "            digit = int(digit)\n",
    "            total += digit\n",
    "        return total\n",
    "        \n",
    "lateRide(23)"
   ]
  },
  {
   "cell_type": "markdown",
   "metadata": {},
   "source": [
    "[input] integer min1\n",
    "\n",
    "Constraints:\n",
    "1 ≤ min1 ≤ 10.\n",
    "\n",
    "[input] integer min2_10\n",
    "\n",
    "Constraints:\n",
    "1 ≤ min2_10 ≤ 10.\n",
    "\n",
    "[input] integer min11\n",
    "\n",
    "Constraints:\n",
    "1 ≤ min11 ≤ 10.\n",
    "\n",
    "[input] integer s\n",
    "\n",
    "Constraints:\n",
    "2 ≤ s ≤ 60."
   ]
  },
  {
   "cell_type": "code",
   "execution_count": 12,
   "metadata": {
    "collapsed": false
   },
   "outputs": [
    {
     "data": {
      "text/plain": [
       "0"
      ]
     },
     "execution_count": 12,
     "metadata": {},
     "output_type": "execute_result"
    }
   ],
   "source": [
    "#%%debug\n",
    "def phoneCall(min1, min2_10, min11, s):\n",
    "    if s < min1:\n",
    "        return 0\n",
    "    else:\n",
    "        s = s - min1\n",
    "        time = 1\n",
    "        if s > 0:\n",
    "            if s - (min2_10 * 9) > 0:\n",
    "                s = s - (min2_10 * 9)\n",
    "                time = 1 + 9\n",
    "                time += s / min11\n",
    "                return time\n",
    "            else:\n",
    "                time += s // min2_10\n",
    "                return time\n",
    "        else:\n",
    "            return time\n",
    "phoneCall(10,10,1,2)"
   ]
  },
  {
   "cell_type": "code",
   "execution_count": 19,
   "metadata": {
    "collapsed": false
   },
   "outputs": [
    {
     "data": {
      "text/plain": [
       "3"
      ]
     },
     "execution_count": 19,
     "metadata": {},
     "output_type": "execute_result"
    }
   ],
   "source": [
    "def knapsackLight(value1, weight1, value2, weight2, maxW):\n",
    "    if weight1 + weight2 <= maxW:\n",
    "        return value1 + value2\n",
    "    else:\n",
    "        if weight1 <= maxW and weight2 <= maxW:\n",
    "            return max(value1, value2)\n",
    "        else:\n",
    "            if weight1 <= maxW:\n",
    "                return value1\n",
    "            elif weight2 <= maxW:\n",
    "                return value2\n",
    "            else:\n",
    "                return 0\n",
    "\n",
    "knapsackLight(2, 5, 3, 4, 5)"
   ]
  },
  {
   "cell_type": "code",
   "execution_count": 30,
   "metadata": {
    "collapsed": false
   },
   "outputs": [
    {
     "data": {
      "text/plain": [
       "False"
      ]
     },
     "execution_count": 30,
     "metadata": {},
     "output_type": "execute_result"
    }
   ],
   "source": [
    "def isInfiniteProcess(a, b):\n",
    "    n=0\n",
    "    while a != b:\n",
    "        a += 1\n",
    "        b -= 1\n",
    "        n += 1\n",
    "        if n > 100:\n",
    "            return True\n",
    "            break\n",
    "    return False\n",
    "        \n",
    "isInfiniteProcess(10,10)"
   ]
  },
  {
   "cell_type": "code",
   "execution_count": 32,
   "metadata": {
    "collapsed": false
   },
   "outputs": [],
   "source": [
    "def tennisSet(score1, score2):\n",
    "    if max(score1, score2) == 6 and min(score1, score2) < 5:\n",
    "        return True\n",
    "    elif max(score1, score2) == 7 and min(score1, score2) == 5:\n",
    "        return True\n",
    "    else:\n",
    "        return False"
   ]
  },
  {
   "cell_type": "code",
   "execution_count": 39,
   "metadata": {
    "collapsed": false
   },
   "outputs": [
    {
     "data": {
      "text/plain": [
       "(True, False, False)"
      ]
     },
     "execution_count": 39,
     "metadata": {},
     "output_type": "execute_result"
    }
   ],
   "source": [
    "def willYou(young, beautiful, loved):\n",
    "    A = (young or beautiful or loved)\n",
    "    B = (young and beautiful and loved)\n",
    "    return not(A and B), A, B\n",
    "willYou(False, False, False)\n",
    "#willYou(True, True, True)"
   ]
  }
 ],
 "metadata": {
  "kernelspec": {
   "display_name": "Python 3",
   "language": "python",
   "name": "python3"
  },
  "language_info": {
   "codemirror_mode": {
    "name": "ipython",
    "version": 3
   },
   "file_extension": ".py",
   "mimetype": "text/x-python",
   "name": "python",
   "nbconvert_exporter": "python",
   "pygments_lexer": "ipython3",
   "version": "3.5.2"
  },
  "latex_envs": {
   "bibliofile": "biblio.bib",
   "cite_by": "apalike",
   "current_citInitial": 1,
   "eqLabelWithNumbers": true,
   "eqNumInitial": 0
  }
 },
 "nbformat": 4,
 "nbformat_minor": 0
}
