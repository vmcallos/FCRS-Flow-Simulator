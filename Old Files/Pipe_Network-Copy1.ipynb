{
 "cells": [
  {
   "cell_type": "code",
   "execution_count": 311,
   "metadata": {
    "collapsed": false
   },
   "outputs": [],
   "source": [
    "from iapws import IAPWS97\n",
    "import numpy as np\n",
    "import math"
   ]
  },
  {
   "cell_type": "markdown",
   "metadata": {},
   "source": [
    "## Static Model Equations"
   ]
  },
  {
   "cell_type": "markdown",
   "metadata": {},
   "source": [
    "\n",
    "### A. Hydraulic model of single pipe\n",
    "\n",
    "By law of momentum conservation , hydraulic model can be written as:\n",
    "$$ C_p = \\frac {D^{5} \\; \\rho_m }{1.25 \\times 10^{8} \\lambda \\; q \\; P_1 \\; (1+\\eta) \\; L}  $$\n",
    "\n",
    "Equation for solving frictional factor $\\lambda$:\n",
    "$$ \\lambda = 0.11 \\times (\\frac{\\Delta}{D}+\\frac{68}{Re})^{0.25} $$\n",
    "\n",
    "Reynolds number is written as:\n",
    "$$ Re = \\frac {D \\; u \\; \\rho_m}{\\mu} = 354 \\frac{q}{D \\; \\mu}$$\n",
    "\n",
    "Where:\n",
    "* $P_1$ - the input pressure of the steam in the pipe, Mpa;\n",
    "* $\\lambda$ - frictional factor\n",
    "* $q$ - mass flow rate, tph;\n",
    "* $D$ - the inner diameter of the pipe, mm;\n",
    "* $L$ - length of the pipe, mm;\n",
    "* $\\rho_m$ - weighted mean density in the pipe, $kg/m^{3}$\n",
    "* $\\eta$ - equivalent length coefficient\n",
    "* $\\Delta$ - equivalent absolute roughness, mm;\n",
    "* $Re$ - Reynolds number of the steam in the pipe;\n",
    "* $u$ - characteristic velocity of the steam in the pipe, m/s\n",
    "* $\\mu$ - the mean dynamic viscosity coefficient, Pa*s or kg/(m s)"
   ]
  },
  {
   "cell_type": "markdown",
   "metadata": {},
   "source": [
    "### B. Thermal model of a single pipe\n",
    "\n",
    "By law of energy conservation, the static thermal model can be written as follows:\n",
    "\n",
    "$$ C_T = \\frac{278 \\; c_p \\; q^{2}} {(1+\\beta \\,) \\; q_1 \\; L} $$\n",
    "\n",
    "The amount of heatloss along unit pipe length can be calculated using:\n",
    "\n",
    "$$ q_l = \\frac {T_0 - T_a}\n",
    "    {\\frac{1}{2 \\pi \\epsilon} \\; ln\\frac{D_o}{D_i} \\; + \\frac{1}{\\pi \\, D_o \\, a_w}} $$\n",
    "    \n",
    "$a_w$ is determined by:\n",
    "    $$ a_w = 11.6 + 7 \\sqrt {v} $$"
   ]
  },
  {
   "cell_type": "code",
   "execution_count": 312,
   "metadata": {
    "collapsed": false
   },
   "outputs": [],
   "source": [
    "\"\"\"Hydraulic Model Functions\"\"\"\n",
    "def dviscosity(P):\n",
    "    \"\"\"get dynamic viscosity from IAPWS given Pressure (Mpa)\"\"\"\n",
    "    sat_steam=IAPWS97(P=P,x=1)  #saturated steam with known P\n",
    "    return sat_steam.mu\n",
    "\n",
    "def sp_heat (T):\n",
    "    \"\"\"return specific isobaric heat capacity (Cp); kJ/kg*K\"\"\"\n",
    "    sat_steam=IAPWS97(T=T, x=1)  #saturated steam with known T in Kelvin\n",
    "    return sat_steam.cp \n",
    "\n",
    "def nRe (q, D, mu):\n",
    "    \"\"\"Calculate reynolds number\"\"\"\n",
    "    return 353*q/(D * mu)\n",
    "\n",
    "def ffactor (delta, D, Re):\n",
    "    \"\"\"Calculate frictional factor\"\"\"\n",
    "    return 0.11 * ((delta/D)+(68/Re))**0.25\n",
    "\n",
    "def C_P(D, rho, friction, q, P, eta, L):\n",
    "    \"\"\"Calculate from hydraulic model\"\"\"\n",
    "    c_p = D**5 * rho/(1.25*10**8* friction * q * P * (1+ eta) * L ) \n",
    "    return c_p\n",
    "\n",
    "def aw (v):\n",
    "    #calculate aw given air velocity; m/s\n",
    "    return 11.6 + 7*v**0.5\n",
    "#print (\"aw = \", aw(1.11))\n",
    "\n",
    "def heat_loss (To, Ta, epsilon, Do, Di, aw):\n",
    "    num = To-Ta\n",
    "    d1 = np.log(Do/Di)/(2*epsilon*math.pi)\n",
    "    d2 = 1/(math.pi*(Do)*aw)\n",
    "    #print (num, d1, d2)\n",
    "    return (num / (d1 + d2))\n",
    "\n",
    "def mass_flow (beta, heat_l, L, sp_heat, deltaT):\n",
    "    return ((1+beta)*heat_l*L)/(278*sp_heat*deltaT)\n",
    "    \n",
    "#print (heat_loss(200+273.15, 32+273.15, 0.035, 920, 700, 19))"
   ]
  },
  {
   "cell_type": "code",
   "execution_count": 313,
   "metadata": {
    "collapsed": true
   },
   "outputs": [],
   "source": [
    "\"\"\"Initialize parameter values\"\"\"\n",
    "eta = 0.2\n",
    "delta = 0.2\n",
    "beta = 0.15\n",
    "epsilon = 0.035\n",
    "error = 0.3"
   ]
  },
  {
   "cell_type": "code",
   "execution_count": 314,
   "metadata": {
    "collapsed": false
   },
   "outputs": [
    {
     "name": "stdout",
     "output_type": "stream",
     "text": [
      "[  0.1  90.9  10.1   0.1  29.8]\n"
     ]
    }
   ],
   "source": [
    "\"\"\"Pipe Specifications\"\"\"\n",
    "#array of pipe lengths\n",
    "L = np.array([600, 2300, 700, 1300, 1200])\n",
    "Di = np.array([700., 600., 400., 500., 600])\n",
    "Do = np.array([720, 630, 426, 529, 630])\n",
    "insulation = np.array([110, 105, 95, 100, 105])\n",
    "Do_insul = Do + insulation*2 #Outer diameer of pipe + 2*insulation thickness\n",
    "#print (Do_insul)\n",
    "\n",
    "\"\"\"Given Measured Data\"\"\"\n",
    "#Define Q preliminary field; flow rate of the ith node\n",
    "Q = np.array([-117.0, 19.0, 19.0, 79.0, 0.0, 0.0])\n",
    "\n",
    "#Measured pressure data at nodes 1, 2, 3 and 4; initial guess for node 5 and 6\n",
    "P = np.array([0.705, 0.679, 0.563, 0.445])\n",
    "P5 = 0.5*(P[0]+P[1])             #P5 = 0.5*(P1+P2)             initial guess\n",
    "mx = 0.5*(max(P[2], P[3])+P5)    #P6 = 0.5*( max(P3,P4) + P5)  initial guess\n",
    "P = np.append(P, [P5,mx])\n",
    "P2 = P**2\n",
    "\n",
    "#Measured temp data at nodes 1, 2, 3 and 4; initial guess for node 5 and 6\n",
    "T = np.array([286+273.15, 195+273.15, 246+273.15, 256+273.15])\n",
    "mx = max(T[2], T[3])+.1     #P6 = max(P3,P4) initial guess\n",
    "T = np.append(T, [T[0]-.1,mx]) #P5 = P1 initial guess\n",
    "#print (\"temp at nodes:\", T)\n",
    "\n",
    "#Delta T for each pipe segment\n",
    "dT = np.array([T[0]-T[4], T[4]-T[1], T[5]-T[2], T[5]-T[3], T[4]-T[5]])\n",
    "print (dT)\n",
    "\n",
    "#create array of isobaric specific heat at pipeline\n",
    "def get_cp (T):\n",
    "    cp = np.array([sp_heat(T[0]), sp_heat(T[4]), sp_heat(T[5]), sp_heat(T[5]), sp_heat(T[4])])\n",
    "    return cp\n",
    "cp = get_cp(T)\n",
    "           \n",
    "#cp = np.array([sp_heat(T[0]), sp_heat(T[4]), sp_heat(T[5]), sp_heat(T[5]), sp_heat(T[4])])\n",
    "#print (cp)\n",
    "\n",
    "\n",
    "#for heat loss (q_l) calculation, set Ta at inlet temp\n",
    "#Temperature of pipeline\n",
    "Ta = np.array([T[0], T[4], T[5], T[5], T[4],])\n",
    "#print (\"temp at pipes:\", Ta)\n",
    "\n",
    "#define atmospheric temp\n",
    "Tatm = 305.15\n",
    "\n",
    "\n",
    "aw1 = aw(1.11111)\n"
   ]
  },
  {
   "cell_type": "code",
   "execution_count": 315,
   "metadata": {
    "collapsed": false
   },
   "outputs": [
    {
     "name": "stdout",
     "output_type": "stream",
     "text": [
      "[  0.1  90.9  10.1   0.1  29.8]\n",
      "q =  [ -876.91289674    -3.24187939    -7.81478843 -1678.54158973    -5.15938436]\n",
      "[[ -876.91289674     3.24187939     7.81478843  1678.54158973\n",
      "    868.51163298 -1681.19699379]]\n",
      "[-117.   19.   19.   79.    0.    0.]\n",
      "[[ -993.91289674    22.24187939    26.81478843  1757.54158973\n",
      "    868.51163298 -1681.19699379]]\n"
     ]
    },
    {
     "data": {
      "text/plain": [
       "0.0"
      ]
     },
     "execution_count": 315,
     "metadata": {},
     "output_type": "execute_result"
    }
   ],
   "source": [
    "\"\"\"Step 1: Calculate heat_loss (W/m)\"\"\"\n",
    "#calculate heat loss vector along pipe (W/m)\n",
    "q_l = heat_loss(Tatm, Ta, epsilon, Do_insul, Di, aw1)\n",
    "#print (q_l)\n",
    "#calculate mass flow vector along pipe\n",
    "q_f = mass_flow(beta, q_l, L, cp, dT)\n",
    "#print (q_f)\n",
    "\n",
    "#test q vector; flow rate of each pipe\n",
    "q = (1+beta)*q_l* L / (278 * cp * dT)\n",
    "print (dT)\n",
    "print (\"q = \",q)\n",
    "\n",
    "Aq = np.dot(A,q)\n",
    "print (Aq)\n",
    "print(Q)\n",
    "obj = Aq + Q\n",
    "print (obj)\n",
    "np.sum(obj)\n",
    "\n",
    "#def mass_flow (beta, heat_l, L, sp_heat, deltaT):\n",
    "#    return ((1+beta)*heat_l*L)/(278*sp_heat*deltaT)"
   ]
  },
  {
   "cell_type": "code",
   "execution_count": 316,
   "metadata": {
    "collapsed": false
   },
   "outputs": [
    {
     "name": "stdout",
     "output_type": "stream",
     "text": [
      "[  -771.28929818 -19244.07979205  -3574.82756455    -27.86084814\n",
      " -23835.60396672]\n",
      "[   771.28929818  19244.07979205   3574.82756455     27.86084814\n",
      "  23835.60396672]\n",
      "1 [[ 0.018161    0.017823    0.07678725  0.19573125  0.08510775]]\n",
      "q sum   [   14.00738494   342.98723413   274.50117791     5.45323863  2028.5946235 ]\n",
      "[[ 1  0  0  0  0]\n",
      " [ 0 -1  0  0  0]\n",
      " [ 0  0 -1  0  0]\n",
      " [ 0  0  0 -1  0]\n",
      " [-1  1  0  0  1]\n",
      " [ 0  0  1  1 -1]] [   14.00738494   342.98723413   274.50117791     5.45323863  2028.5946235 ]\n"
     ]
    },
    {
     "data": {
      "text/plain": [
       "2.2737367544323206e-13"
      ]
     },
     "execution_count": 316,
     "metadata": {},
     "output_type": "execute_result"
    }
   ],
   "source": [
    "\"\"\"Hydraulic Calculation\"\"\"\n",
    "#Calculate Reynolds Number\n",
    "def dviscosity(P):\n",
    "    \"\"\"get dynamic viscosity from IAPWS given Pressure (Mpa)\"\"\"\n",
    "    sat_steam=IAPWS97(P=P,x=1)  #saturated steam with known P\n",
    "    return sat_steam.mu\n",
    "\n",
    "def density(P):\n",
    "    \"\"\"get dynamic viscosity from IAPWS given Pressure (Mpa)\"\"\"\n",
    "    sat_steam=IAPWS97(P=P,x=1)  #saturated steam with known P\n",
    "    return sat_steam.rho   \n",
    "\n",
    "def nRe (q, D, mu):\n",
    "    \"\"\"Calculate reynolds number\"\"\"\n",
    "    return 354*q/(D * mu)\n",
    "\n",
    "#Calculate dynamic viscosity coefficient os a function of pressure\n",
    "#Line Pressure is the average of inlet and outlet pressure\n",
    "mu = np.array([dviscosity((P[0]+P[4])/2), dviscosity((P[1]+P[4])/2), dviscosity((P[2]+P[5])/2), \\\n",
    "               dviscosity((P[3]+P[5])/2), dviscosity((P[4]+P[5])/2)])\n",
    "\n",
    "#Calculate Renolds Number\n",
    "Re = nRe (np.absolute(q_f), Di, mu)\n",
    "#print(Re)\n",
    "\n",
    "#Calculate Friction Factor\n",
    "friction = ffactor(delta, Di, Re)\n",
    "\n",
    "#Calculate mean density in the pipe\n",
    "rho_m = np.array([density((P[0]+P[4])/2), density((P[1]+P[4])/2), density((P[2]+P[5])/2), \\\n",
    "               density((P[3]+P[5])/2), density((P[4]+P[5])/2)])\n",
    "\n",
    "#array for inlet pressure of pipes\n",
    "P_in = np.array([P[0], P[4], P[5], P[5], P[4]])\n",
    "\n",
    "#Calculate Cp; pressure loss\n",
    "print (Di**5 * rho_m/(1.25*10**8*L*P_in*friction*q_f*(1+eta)))\n",
    "\n",
    "\n",
    "\n",
    "CP = C_P(Di, rho_m, friction, np.absolute(q_f), P_in, eta, L)\n",
    "\n",
    "print (CP)\n",
    "#CP = cp(Di, rho_m, friction, q_f, P_in, eta, L)\n",
    "#print (CP)\n",
    "\n",
    "At = np.transpose(A)\n",
    "\n",
    "AtP = np.dot(At, P2)\n",
    "AtP - np.array(AtP)\n",
    "atp_only = AtP[[0],[0, 1, 2, 3, 4]]\n",
    "print (len(AtP), AtP)\n",
    "#print (CP, atp_only)\n",
    "\n",
    "ar_atp = np.array(AtP)\n",
    "ar_atp = ar_atp[[0],[0, 1, 2, 3, 4]]\n",
    "\n",
    "q = CP*ar_atp\n",
    "print (\"q sum  \", q)\n",
    "\n",
    "Aq = np.dot(A, q)\n",
    "print (A, q)\n",
    "np.sum(Aq)"
   ]
  },
  {
   "cell_type": "code",
   "execution_count": 324,
   "metadata": {
    "collapsed": false
   },
   "outputs": [
    {
     "name": "stdout",
     "output_type": "stream",
     "text": [
      "[ -7.23873892e-167  -2.24717885e+006  -3.53097688e-007  -4.23678540e-146\n",
      "  -1.27741895e+019] [ -7.23873892e-166  -2.47214395e+004  -3.49601671e-008  -4.23678540e-145\n",
      "  -4.28664078e+017] [  0.1  90.9  10.1   0.1  29.8]\n",
      "Aq:  [[ -7.23873892e-167   2.24717885e+006   3.53097688e-007   4.23678540e-146\n",
      "   -1.27741895e+019   1.27741895e+019]]\n"
     ]
    },
    {
     "data": {
      "text/plain": [
       "0.0"
      ]
     },
     "execution_count": 324,
     "metadata": {},
     "output_type": "execute_result"
    }
   ],
   "source": [
    "\"\"\"Thermal Model\"\"\"\n",
    "\n",
    "CT = 278 * cp * q**2 / ( (1+beta) * q_l * L)\n",
    "\n",
    "AtT = np.dot(At, T)\n",
    "ar_att = np.array(AtT)\n",
    "ar_att = ar_att[[0],[0, 1, 2, 3, 4]]\n",
    "\n",
    "q = CT * ar_att\n",
    "print (q, CT, ar_att)\n",
    "\n",
    "Aq = np.dot (A, q)\n",
    "print (\"Aq: \", Aq)\n",
    "np.sum(Aq)\n",
    "\n",
    "#print (\"ACT:AtT\", AtT, ar_att)\n",
    "\n",
    "#print (CT, q)"
   ]
  },
  {
   "cell_type": "markdown",
   "metadata": {},
   "source": [
    "## Flow chart of flow rate calculation\n",
    "\n",
    "<iiimg src=\"images\\flow_chart.png\" ,width=700,height=1400>"
   ]
  },
  {
   "cell_type": "markdown",
   "metadata": {},
   "source": [
    "## Determine matrix \"A\" and Q\n",
    "\n"
   ]
  },
  {
   "cell_type": "code",
   "execution_count": 318,
   "metadata": {
    "collapsed": false
   },
   "outputs": [
    {
     "data": {
      "text/plain": [
       "66"
      ]
     },
     "execution_count": 318,
     "metadata": {},
     "output_type": "execute_result"
    }
   ],
   "source": [
    "\"\"\"Define matrix A based on given steam pipeline network\"\"\"\n",
    "A = np.matrix('1, 0, 0, 0, 0; \\\n",
    "               0, -1, 0, 0, 0; \\\n",
    "               0, 0, -1, 0, 0; \\\n",
    "               0, 0, 0, -1, 0; \\\n",
    "               -1, 1, 0, 0, 1; \\\n",
    "               0, 0, 1, 1, -1')\n",
    "q = np.array([2, 4, 6, 8, 10])\n",
    "\n",
    "np.dot(A, q)\n",
    "\n",
    "a = np.array([1, 2, 3])\n",
    "b = np.array([10, 20, 30])\n",
    "c = a + b\n",
    "np.add(a, b)\n",
    "#print (c)\n",
    "np.sum(c)"
   ]
  },
  {
   "cell_type": "markdown",
   "metadata": {},
   "source": [
    "### Reference\n",
    "\n",
    "Luo, X., Yuan, M., Wang, H., Jia, Y., & Wu, F. (2012). On Steam Pipe Network Modeling and Flow Rate Calculation. Procedia Engineering, 29, 1897-1903."
   ]
  }
 ],
 "metadata": {
  "kernelspec": {
   "display_name": "Python 3",
   "language": "python",
   "name": "python3"
  },
  "language_info": {
   "codemirror_mode": {
    "name": "ipython",
    "version": 3
   },
   "file_extension": ".py",
   "mimetype": "text/x-python",
   "name": "python",
   "nbconvert_exporter": "python",
   "pygments_lexer": "ipython3",
   "version": "3.5.2"
  },
  "latex_envs": {
   "bibliofile": "biblio.bib",
   "cite_by": "apalike",
   "current_citInitial": 1,
   "eqLabelWithNumbers": true,
   "eqNumInitial": 0
  }
 },
 "nbformat": 4,
 "nbformat_minor": 0
}
