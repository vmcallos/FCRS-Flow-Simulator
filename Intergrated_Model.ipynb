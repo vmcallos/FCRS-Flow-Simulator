{
 "cells": [
  {
   "cell_type": "code",
   "execution_count": 68,
   "metadata": {
    "collapsed": false
   },
   "outputs": [
    {
     "name": "stdout",
     "output_type": "stream",
     "text": [
      "0.0019392683356514282\n"
     ]
    }
   ],
   "source": [
    "%run conservation_equations.ipynb\n",
    "import numpy as np\n",
    "import math\n",
    "import matplotlib.pyplot as plt\n",
    "from iapws import IAPWS97"
   ]
  },
  {
   "cell_type": "code",
   "execution_count": 69,
   "metadata": {
    "collapsed": false
   },
   "outputs": [],
   "source": [
    "\"\"\"Define Inlet Parameters\"\"\"\n",
    "diameter = 0.7366 #29 inch ID\n",
    "mass_flow = 51\n",
    "pressure = 0.8862\n",
    "length = 80\n",
    "roughness = 0.000046 #m"
   ]
  },
  {
   "cell_type": "code",
   "execution_count": 70,
   "metadata": {
    "collapsed": false
   },
   "outputs": [],
   "source": [
    "'''Define Outlet Parameters'''\n",
    "diameter2 = diameter\n",
    "mass_flow2 = mass_flow"
   ]
  },
  {
   "cell_type": "code",
   "execution_count": 71,
   "metadata": {
    "collapsed": false
   },
   "outputs": [],
   "source": [
    "\"\"\"Define Fittings\"\"\"\n",
    "#Represent in a list of 8\n",
    "fittings_list = [0, 2, 0, 0, 0, 0, 0, 0]\n",
    "#fittings [0] = elbow_45  #fittings [1] = elbow_90\n",
    "#fittings [2] = tee       #fittings [3] = return_bend\n",
    "#fittings [4] = coupling  #fittings [5] = union\n",
    "#fittings [6] = gate_valve_full  #fittings [7] = gate_valve_half"
   ]
  },
  {
   "cell_type": "code",
   "execution_count": 72,
   "metadata": {
    "collapsed": false
   },
   "outputs": [
    {
     "name": "stdout",
     "output_type": "stream",
     "text": [
      "447.85219616564257 4.585969505476386 1.4804923935624342e-05 2772.4261727237977\n"
     ]
    }
   ],
   "source": [
    "'''Calculate parameters from steam table'''\n",
    "sat_steam = IAPWS97(P = pressure, x=1)\n",
    "temperature = sat_steam.T\n",
    "density = sat_steam.rho\n",
    "enthalpy =  sat_steam.h\n",
    "dynamic_viscosity = sat_steam.mu\n",
    "print(temperature, density, dynamic_viscosity, enthalpy)"
   ]
  },
  {
   "cell_type": "code",
   "execution_count": 73,
   "metadata": {
    "collapsed": false
   },
   "outputs": [
    {
     "name": "stdout",
     "output_type": "stream",
     "text": [
      "26.09670661426525 0.42614098992099564\n"
     ]
    }
   ],
   "source": [
    "'''Calculate Derived Parameters'''\n",
    "#Relative roughness\n",
    "relative_roughness = roughness / diameter\n",
    "\n",
    "#cross sectional area\n",
    "area = math.pi * diameter**2 / 4\n",
    "#for straight pipe\n",
    "area2 = area\n",
    "\n",
    "#velocity\n",
    "velocity = mass_flow / (density * area)\n",
    "print(velocity, area)"
   ]
  },
  {
   "cell_type": "code",
   "execution_count": 74,
   "metadata": {
    "collapsed": false
   },
   "outputs": [
    {
     "name": "stdout",
     "output_type": "stream",
     "text": [
      "0.0030478696133668967\n",
      "nRE 5954460.241631568\n",
      "450.8748995236644 0.002839999999998332\n",
      "447.85219616564257 0.7366 26.09670661426525 6.24490904154222e-05 80\n"
     ]
    }
   ],
   "source": [
    "'''Skin Friction Calculation'''\n",
    "nRE = reynolds_number(diameter, velocity, density, dynamic_viscosity)\n",
    "friction_factor = ff_colebrook(nRE, relative_roughness)\n",
    "friction_skin = f_skin(temperature, diameter, velocity, relative_roughness, length)\n",
    "#print('nRE',nRE)\n",
    "#print(friction_skin, friction_factor)\n",
    "#print(temperature, diameter, velocity, relative_roughness, length)"
   ]
  },
  {
   "cell_type": "code",
   "execution_count": 75,
   "metadata": {
    "collapsed": false
   },
   "outputs": [],
   "source": [
    "'''Pipe Enlargement and contraction '''\n",
    "friction_expansion = f_expansion(area, area2, velocity)\n",
    "friction_contraction = f_contraction(area, area2, velocity)"
   ]
  },
  {
   "cell_type": "code",
   "execution_count": 76,
   "metadata": {
    "collapsed": false
   },
   "outputs": [
    {
     "name": "stdout",
     "output_type": "stream",
     "text": [
      "26.09670661426525 510.7785720832768\n"
     ]
    }
   ],
   "source": [
    "'''Losses in fittings and valves'''\n",
    "friction_fittings = f_fittings(velocity, fittings_list)\n",
    "print (velocity, friction_fittings)"
   ]
  },
  {
   "cell_type": "code",
   "execution_count": 77,
   "metadata": {
    "collapsed": false
   },
   "outputs": [
    {
     "name": "stdout",
     "output_type": "stream",
     "text": [
      "961.6534716069411\n"
     ]
    }
   ],
   "source": [
    "'''Calulate total friction losses'''\n",
    "friction_total = friction_skin + friction_expansion + friction_contraction + friction_fittings\n",
    "print (friction_total)"
   ]
  },
  {
   "cell_type": "code",
   "execution_count": 78,
   "metadata": {
    "collapsed": false
   },
   "outputs": [
    {
     "name": "stdout",
     "output_type": "stream",
     "text": [
      "-965.2933921570551 -49229.96300000981\n"
     ]
    }
   ],
   "source": [
    "'''Define Parameters for heat loss'''\n",
    "#Convective heat transfer coefficient (h; W/m**K)\n",
    "h_steam_pipe = 36\n",
    "h_insulation_air = 7\n",
    "#Insulation\n",
    "t_insulation = 2 * 0.0254    #insulation thickness (m)\n",
    "k_insulation = 0.05          #insulation's thermal conductivity (W/m** K)\n",
    "#Pipe\n",
    "t_pipe = 0.5 * 0.0254         #pipeline thickness (m)\n",
    "k_pipe = 56           #pipe's thermal conductivity (W/m** K)\n",
    "#id_pipe = 0.25        #pipe's inner diameter (m) given at diameter\n",
    "#l_pipe = 6000         #length of pipeline (m) given at length\n",
    "#Temp\n",
    "t1 = temperature - 273.15           #temp inside the pipeline\n",
    "t2 = 25                             #temp; atmospheric\n",
    "\n",
    "r1 = diameter\n",
    "r2 = diameter + t_pipe\n",
    "r3 = diameter + t_pipe + t_insulation\n",
    "\n",
    "h_t = heat_transfer(length, t1, t2, h_steam_pipe, h_insulation_air, k_pipe, k_insulation, r1, r2, r3)\n",
    "Q = h_t / mass_flow\n",
    "print(Q, h_t)"
   ]
  },
  {
   "cell_type": "code",
   "execution_count": 79,
   "metadata": {
    "collapsed": false
   },
   "outputs": [
    {
     "name": "stdout",
     "output_type": "stream",
     "text": [
      "412.02000000000004\n"
     ]
    }
   ],
   "source": [
    "'''Calculate gdZ'''\n",
    "gdz = head(655, 613)\n",
    "print (gdz)"
   ]
  },
  {
   "cell_type": "code",
   "execution_count": 80,
   "metadata": {
    "collapsed": false
   },
   "outputs": [
    {
     "data": {
      "text/plain": [
       "0.8792525915997513"
      ]
     },
     "execution_count": 80,
     "metadata": {},
     "output_type": "execute_result"
    }
   ],
   "source": [
    "'''Calculate outlet pressure'''\n",
    "udu = 0\n",
    "p_out(pressure, friction_total, gdz, udu, density, Q )"
   ]
  }
 ],
 "metadata": {
  "kernelspec": {
   "display_name": "Python 3",
   "language": "python",
   "name": "python3"
  },
  "language_info": {
   "codemirror_mode": {
    "name": "ipython",
    "version": 3
   },
   "file_extension": ".py",
   "mimetype": "text/x-python",
   "name": "python",
   "nbconvert_exporter": "python",
   "pygments_lexer": "ipython3",
   "version": "3.5.2"
  },
  "latex_envs": {
   "bibliofile": "biblio.bib",
   "cite_by": "apalike",
   "current_citInitial": 1,
   "eqLabelWithNumbers": true,
   "eqNumInitial": 0
  }
 },
 "nbformat": 4,
 "nbformat_minor": 0
}
