{
 "cells": [
  {
   "cell_type": "code",
   "execution_count": 28,
   "metadata": {
    "collapsed": false
   },
   "outputs": [
    {
     "name": "stdout",
     "output_type": "stream",
     "text": [
      "0.002868007145475173\n",
      "2759.5950361387345 6.732103638809531\n",
      "306.3233808143922 14274.669545950675\n",
      "2600.4304108866704 7.986839903989945 328.3328322561139\n",
      "steam 2777.1195376846617 6.58497899635217 453.0356323914666\n",
      "brine 762.6828443354106 2.138431350899127 453.0356323914666\n"
     ]
    }
   ],
   "source": [
    "import pandas as pd\n",
    "import math\n",
    "from iapws import IAPWS97\n",
    "import sys\n",
    "%run equations_module.ipynb\n",
    "%run class_module.ipynb"
   ]
  },
  {
   "cell_type": "code",
   "execution_count": 29,
   "metadata": {
    "collapsed": false
   },
   "outputs": [],
   "source": [
    "#import data frame for pipe network;\n",
    "net_df = pd.read_excel('fcrs_in.xls', sheetname=2)#2\n",
    "#import data frame for NODE attributes\n",
    "node_df = pd.read_excel('fcrs_in.xls', sheetname=0)#0\n",
    "#import dataframe for RI pipeline attributes\n",
    "pipe_df = pd.read_excel('fcrs_in.xls', sheetname=1)#1\n",
    "#node_df.head()"
   ]
  },
  {
   "cell_type": "code",
   "execution_count": 30,
   "metadata": {
    "collapsed": false
   },
   "outputs": [],
   "source": [
    "network_graph = {}\n",
    "node_dict = {}\n",
    "pipe_dict = {}\n",
    "#Create a graph from nodes; in dictionary format\n",
    "for nodes in range (len(net_df.index)):\n",
    "    nodeID, inlet, outlet, pflow = map(lambda x: net_df.iloc[nodes, x], range(0,4))\n",
    "    #print(nodeID, inlet, outlet, pflow)\n",
    "    network_graph[nodeID] = [inlet, outlet, pflow]\n",
    "\n",
    "for nodes in range(len(node_df.index)):\n",
    "    #create a node class for each row and store it in a dictionary\n",
    "    nodeID,b,c,d,e,f,g,h,i,j,k = map(lambda x: node_df.iloc[nodes, x], range(0,11))\n",
    "    node_dict[nodeID] = node_class(nodeID,b,c,d,e,f,g,h,i,j,k)\n",
    "\n",
    "for pipelines in range(len(pipe_df.index)):\n",
    "    #create a pipeline class for each row and store it in a dictionary\n",
    "    lineID,b,c,d,e,f,g,h,i,j,k  = map(lambda x: pipe_df.iloc[pipelines, x], range(0,11))   \n",
    "    pipe_dict[lineID] = pipe_class(lineID,b,c,d,e,f,g,h,i,j,k)"
   ]
  },
  {
   "cell_type": "code",
   "execution_count": 31,
   "metadata": {
    "collapsed": false
   },
   "outputs": [],
   "source": [
    "#[print(net, network_graph[net]) for net in sorted(network_graph)]\n",
    "#[print(node_dict[net]) for net in sorted(node_dict)]\n",
    "#[print(pipe_dict[net]) for net in sorted(pipe_dict)]"
   ]
  },
  {
   "cell_type": "code",
   "execution_count": 32,
   "metadata": {
    "collapsed": false
   },
   "outputs": [],
   "source": [
    "def print_f (node1, node2, pipe):\n",
    "    print('{:14} {:>14} {:>14}'.format('', 'Inlet Node', 'Outlet Node'))\n",
    "    print('{:14} {:14.4f} {:14.4f}'.format('Pressure', node1.p, node2.p))\n",
    "    print('{:14} {:14.4f} {:14.4f}'.format('Temperature', node1.t, node2.t))\n",
    "    print('{:14} {:14.4f} {:14.4f}'.format('Mass Flow', node1.mf, node2.mf))\n",
    "    print('{:14} {:14.4f} {:14.4f}'.format('Diameter', node1.d, node2.d))\n",
    "    print('{:14} {:14.4f} {:14.4f}'.format('Velocity', node1.v, node2.v))\n",
    "    print('{:14} {:14.4f}'.format('Reynolds Number', node1.reynolds))\n",
    "    print('{:14} {:14.4f} {:14.4f}'.format('Enthalpy', node1.h, node2.h))\n",
    "    print('{:14} {:14.4f} {:14.4f}'.format('SpecificExergy', node1.sp_exergy, node2.sp_exergy))\n",
    "    print('{:14} {:14.4f} {:14.4f}'.format('Exergy', node1.exergy, node2.exergy))\n",
    "    \n",
    "    #pipeline\n",
    "    print('\\n{}'.format('Pipeline Section'))\n",
    "    print('{:18} {:14.4f}'.format('Length', pipe.length))\n",
    "    print('{:18} {:14.4f}'.format('Total F_Loss', pipe.f_tot))\n",
    "    print('{:18} {:14.4f}'.format('  Skin Friction', pipe.f_skin))\n",
    "    print('{:18} {:14.4f}'.format('  Fittings Loss', pipe.f_fit))\n",
    "    print('{:18} {:14.4f}'.format('  Expansion', pipe.f_exp))\n",
    "    print('{:18} {:14.4f}'.format('  Contraction', pipe.f_con))\n",
    "\n",
    "    #print('{:18} {:14.4f}'.format('h_out (J/s)', pipe.h_out))\n",
    "    print('{:18} {:14.4f}'.format('Heat Loss (J/kg)', pipe.Q))\n",
    "    print('{:18} {:14.4f}'.format('gdz', pipe.gdz))\n",
    "    print('{:18} {:14.4f}'.format('udu', pipe.udu))\n",
    "    print('{:18} {:14.4f}'.format('Total Loss', pipe.t_loss))\n",
    "    print('\\n')\n"
   ]
  },
  {
   "cell_type": "code",
   "execution_count": 33,
   "metadata": {
    "collapsed": false
   },
   "outputs": [],
   "source": [
    "'''Main Function to calculate Pressure drop along the steamline'''\n",
    "def calc_dp (node_in, node_out, pipeline, p_f):\n",
    "    #print(node_dict['S501'],'\\n',node_dict['S501X'],'\\n',pipe_dict['STL501'])\n",
    "    print (pipeline)\n",
    "    \n",
    "    '''Calculate Steam T_sat, Rho and Mu from steam table'''\n",
    "    node_dict[node_in].steam_p()\n",
    "    #print(node_dict[node_in].t)\n",
    "   \n",
    "    '''Calculate area and velocity of inlet node; Only area for outlet node'''\n",
    "    node_dict[node_in].calc_area()\n",
    "    node_dict[node_in].calc_velocity(node_dict[node_in])\n",
    "    node_dict[node_out].calc_area()\n",
    "    node_dict[node_out].calc_velocity(node_dict[node_in])\n",
    "    #print('{:.4f}'.format(node_dict[node_in].area))\n",
    "    \n",
    "    '''Calculate Relative Roughness of the pipeline'''\n",
    "    pipe_dict[pipeline].rel_roughness(node_dict[node_in].d)\n",
    "    #print('{:.8f}'.format(pipe_dict[pipeline].rel_rough))\n",
    "    \n",
    "    '''Calculate Reynolds Number at the inlet node'''\n",
    "    node_dict[node_in].nRE()\n",
    "    #print('{:.0f}'.format(node_dict[node_in].reynolds))\n",
    "    \n",
    "    '''Calculate friction factor of the pipe'''\n",
    "    if node_dict[node_in].reynolds > 0: \n",
    "        pipe_dict[pipeline].ff_fanning(node_dict[node_in].reynolds)\n",
    "       #print('{}'.format(pipe_dict[pipeline].ff))\n",
    "    else:\n",
    "        pass\n",
    "   \n",
    "    '''Calculate skin friction along the pipe'''\n",
    "    if node_dict[node_in].reynolds > 0: \n",
    "        pipe_dict[pipeline].skin_friction(node_dict[node_in].v, node_dict[node_in].d)\n",
    "        #print(pipe_dict[pipeline].ff, pipe_dict[pipeline].length, node_dict[node_in].v, node_dict[node_in].d)\n",
    "        #print('{}'.format(pipe_dict[pipeline].f_skin))\n",
    "    else:\n",
    "        pipe_dict[pipeline].f_skin = 0\n",
    "    \n",
    "    '''Calculate expansion or contraction friction loss'''\n",
    "    if node_dict[node_in].area == node_dict[node_out].area:\n",
    "        pipe_dict[pipeline].f_exp = 0\n",
    "        pipe_dict[pipeline].f_con = 0\n",
    "    \n",
    "    if node_dict[node_in].area < node_dict[node_out].area:\n",
    "        pipe_dict[pipeline].f_con = 0\n",
    "        pipe_dict[pipeline].f_expansion(node_dict[node_in].area, node_dict[node_out].area, node_dict[node_in].v)\n",
    "    \n",
    "    else:\n",
    "        pipe_dict[pipeline].f_exp = 0\n",
    "        pipe_dict[pipeline].f_contraction(node_dict[node_in].area, node_dict[node_out].area, node_dict[node_in].v)\n",
    "    \n",
    "    '''Calculate Friction Loss from fittings'''\n",
    "    pipe_dict[pipeline].f_fittings(kf_list, node_dict[node_in].v)\n",
    "    \n",
    "    '''Calcutate total friction loss'''\n",
    "    pipe_dict[pipeline].f_total()\n",
    "    \n",
    "    '''Calculate Heat Loss'''\n",
    "    pipe_dict[pipeline].q_loss(node_dict[node_in], insul)\n",
    "    \n",
    "    '''Calculate gdz and udu'''\n",
    "    pipe_dict[pipeline].f_gdz(node_dict[node_in].z, node_dict[node_out].z)\n",
    "    pipe_dict[pipeline].f_udu(node_dict[node_in].v, node_dict[node_out].v)\n",
    "    \n",
    "    '''Calculate Outlet Pressure'''\n",
    "    node_dict[node_out].p_out(node_dict[node_in], pipe_dict[pipeline])\n",
    "    #print('P-out = ', node_dict[node_in].p, node_dict[node_out].p)\n",
    "        \n",
    "    '''Total Loss'''\n",
    "    pipe_dict[pipeline].total_loss()\n",
    "    \n",
    "    '''Calculate mass Flow of Outlet Node'''\n",
    "    node_dict[node_out].calc_mf(node_dict[node_in], pipe_dict[pipeline], p_f)\n",
    "    \n",
    "    '''Calculate Exergy at Inlet and Outlet'''\n",
    "    node_dict[node_out].calc_exergy()\n",
    "    node_dict[node_in].calc_exergy()\n",
    "    \n",
    "    '''Print Node and Pipe Parameters'''\n",
    "    #print_f(node_dict[node_in], node_dict[node_out], pipe_dict[pipeline])"
   ]
  },
  {
   "cell_type": "code",
   "execution_count": 34,
   "metadata": {
    "collapsed": false,
    "scrolled": false
   },
   "outputs": [
    {
     "name": "stdout",
     "output_type": "stream",
     "text": [
      "STL501\n",
      "STL501X70A1\n",
      "STL501X70A2\n",
      "STL502\n",
      "STL502X70A1\n",
      "STL502X70A2\n",
      "STL503\n",
      "STL503X70A1\n",
      "STL503X70A2\n",
      "STL504\n",
      "STL504X70A1\n",
      "STL504X70A2\n",
      "STL505\n",
      "STL505X70A1\n",
      "STL505X70A2\n",
      "STL506\n",
      "STL506X70B1\n",
      "STL506X70B2\n",
      "STL508\n",
      "STL508X70C1\n",
      "STL508X70C2\n",
      "STL70A1\n",
      "STL70A2\n",
      "STL70B1\n",
      "STL70B2\n",
      "STL70IF1\n",
      "STL70IF2\n"
     ]
    }
   ],
   "source": [
    "'''Create instance of Kf for fittings and insulation params'''\n",
    "kf_list = kf()\n",
    "insul = insulation()\n",
    "\n",
    "\n",
    "for x in sorted(network_graph):\n",
    "    ''' x is the network graph key which is also the pipeID\n",
    "    pipe_dict[x] -> pipeline\n",
    "    network_graph[x][0] -> Inlet Node\n",
    "    network_graph[x][1] -> Outlet Node\n",
    "    '''\n",
    "    '''Calculate Steam T_sat, Rho and Mu from steam table'''\n",
    "    #print(pipe_dict[x], network_graph[x][2])\n",
    "    calc_dp(network_graph[x][0], network_graph[x][1], x, network_graph[x][2])\n",
    "    \n",
    "\n",
    "#for node in sorted(node_dict):\n",
    "#    print(node_dict[node].ID, node_dict[node].exergy, node_dict[node].mf, node_dict[node].p)\n",
    "#\n",
    "#for pipe in sorted(pipe_dict):\n",
    "#    print(pipe_dict[pipe].ID, pipe_dict[pipe].Q, pipe_dict[pipe].f_tot, pipe_dict[pipe].f_skin, pipe_dict[pipe].f_fit,\\\n",
    "#         pipe_dict[pipe].udu, pipe_dict[pipe].gdz)"
   ]
  },
  {
   "cell_type": "code",
   "execution_count": 35,
   "metadata": {
    "collapsed": true
   },
   "outputs": [],
   "source": [
    "#def f_fittings (nf, kf, v):\n",
    "#    v_l = np.full(8,v)\n",
    "#    f_f = nf * kf * v**2 * 0.5\n",
    "#    self.f_fit = sum(f_f)\n",
    "#f_fittings(nf, kf_list, )"
   ]
  },
  {
   "cell_type": "code",
   "execution_count": null,
   "metadata": {
    "collapsed": true
   },
   "outputs": [],
   "source": []
  }
 ],
 "metadata": {
  "kernelspec": {
   "display_name": "Python 3",
   "language": "python",
   "name": "python3"
  },
  "language_info": {
   "codemirror_mode": {
    "name": "ipython",
    "version": 3
   },
   "file_extension": ".py",
   "mimetype": "text/x-python",
   "name": "python",
   "nbconvert_exporter": "python",
   "pygments_lexer": "ipython3",
   "version": "3.5.2"
  },
  "latex_envs": {
   "bibliofile": "biblio.bib",
   "cite_by": "apalike",
   "current_citInitial": 1,
   "eqLabelWithNumbers": true,
   "eqNumInitial": 0
  }
 },
 "nbformat": 4,
 "nbformat_minor": 0
}
