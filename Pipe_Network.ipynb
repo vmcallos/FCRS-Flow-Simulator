{
 "cells": [
  {
   "cell_type": "code",
   "execution_count": 150,
   "metadata": {
    "collapsed": false
   },
   "outputs": [],
   "source": [
    "from iapws import IAPWS97\n",
    "import numpy as np\n",
    "import math"
   ]
  },
  {
   "cell_type": "markdown",
   "metadata": {},
   "source": [
    "## Static Model Equations"
   ]
  },
  {
   "cell_type": "markdown",
   "metadata": {},
   "source": [
    "\n",
    "### A. Hydraulic model of single pipe\n",
    "\n",
    "By law of momentum conservation , hydraulic model can be written as:\n",
    "$$ C_p = \\frac {D^{5} \\; \\rho_m }{1.25 \\times 10^{8} \\lambda \\; q \\; P_1 \\; (1+\\eta) \\; L}  $$\n",
    "\n",
    "Equation for solving frictional factor $\\lambda$:\n",
    "$$ \\lambda = 0.11 \\times (\\frac{\\Delta}{D}+\\frac{68}{Re})^{0.25} $$\n",
    "\n",
    "Reynolds number is written as:\n",
    "$$ Re = \\frac {D \\; u \\; \\rho_m}{\\mu} = 354 \\frac{q}{D \\; \\mu}$$\n",
    "\n",
    "Where:\n",
    "* $P_1$ - the input pressure of the steam in the pipe, Mpa;\n",
    "* $\\lambda$ - frictional factor\n",
    "* $q$ - mass flow rate, tph;\n",
    "* $D$ - the inner diameter of the pipe, mm;\n",
    "* $L$ - length of the pipe, mm;\n",
    "* $\\rho_m$ - weighted mean density in the pipe, $kg/m^{3}$\n",
    "* $\\eta$ - equivalent length coefficient\n",
    "* $\\Delta$ - equivalent absolute roughness, mm;\n",
    "* $Re$ - Reynolds number of the steam in the pipe;\n",
    "* $u$ - characteristic velocity of the steam in the pipe, m/s\n",
    "* $\\mu$ - the mean dynamic viscosity coefficient, Pa*s or kg/(m s)"
   ]
  },
  {
   "cell_type": "markdown",
   "metadata": {},
   "source": [
    "### B. Thermal model of a single pipe\n",
    "\n",
    "By law of energy conservation, the static thermal model can be written as follows:\n",
    "\n",
    "$$ C_T = \\frac{278 \\; c_p \\; q^{2}} {(1+\\beta \\,) \\; q_1 \\; L} $$\n",
    "\n",
    "The amount of heatloss along unit pipe length can be calculated using:\n",
    "\n",
    "$$ q_l = \\frac {T_0 - T_a}\n",
    "    {\\frac{1}{2 \\pi \\epsilon} \\; ln\\frac{D_o}{D_i} \\; + \\frac{1}{\\pi \\, D_o \\, a_w}} $$\n",
    "    \n",
    "$a_w$ is determined by:\n",
    "    $$ a_w = 11.6 + 7 \\sqrt {v} $$"
   ]
  },
  {
   "cell_type": "code",
   "execution_count": 151,
   "metadata": {
    "collapsed": false
   },
   "outputs": [],
   "source": [
    "\"\"\"Hydraulic Model Functions\"\"\"\n",
    "def dviscosity(P):\n",
    "    \"\"\"get dynamic viscosity from IAPWS given Pressure (Mpa)\"\"\"\n",
    "    sat_steam=IAPWS97(P=P,x=1)  #saturated steam with known P\n",
    "    return sat_steam.mu\n",
    "\n",
    "def sp_heat (T):\n",
    "    \"\"\"return specific isobaric heat capacity (Cp); kJ/kg*K\"\"\"\n",
    "    sat_steam=IAPWS97(T=T, x=1)  #saturated steam with known T in Kelvin\n",
    "    return sat_steam.cp \n",
    "\n",
    "def nRe (q, D, mu):\n",
    "    \"\"\"Calculate reynolds number\"\"\"\n",
    "    return 353*q/(D * mu)\n",
    "\n",
    "def ffactor (delta, D, Re):\n",
    "    \"\"\"Calculate frictional factor\"\"\"\n",
    "    return 0.11 * ((delta/D)+(68/Re))**0.25\n",
    "\n",
    "def cp(D, rho, lamda, q, P, eta, L):\n",
    "    \"\"\"Calculate from hydraulic model\"\"\"\n",
    "    num = D**5 * rho\n",
    "    den = 125000000 * lamda * q * P * L * (1-eta)\n",
    "    return num/den\n",
    "\n",
    "def aw (v):\n",
    "    #calculate aw given air velocity; m/s\n",
    "    return 11.6 + 7*v**0.5\n",
    "#print (\"aw = \", aw(1.11))\n",
    "\n",
    "def heat_loss (To, Ta, epsilon, Do, Di, aw):\n",
    "    num = To-Ta\n",
    "    d1 = np.log(Do/Di)/(2*epsilon*math.pi)\n",
    "    d2 = 1/(math.pi*(Do)*aw)\n",
    "    #print (num, d1, d2)\n",
    "    return (num / (d1 + d2))\n",
    "\n",
    "def mass_flow (beta, heat_l, L, sp_heat, deltaT):\n",
    "    return ((1+beta)*heat_l*L)/(278*sp_heat*deltaT)\n",
    "    \n",
    "#print (heat_loss(200+273.15, 32+273.15, 0.035, 920, 700, 19))"
   ]
  },
  {
   "cell_type": "code",
   "execution_count": 152,
   "metadata": {
    "collapsed": true
   },
   "outputs": [],
   "source": [
    "\"\"\"Initialize parameter values\"\"\"\n",
    "eta = 0.2\n",
    "delta = 0.2\n",
    "beta = 0.15\n",
    "epsilon = 0.035\n",
    "error = 0.3"
   ]
  },
  {
   "cell_type": "code",
   "execution_count": 153,
   "metadata": {
    "collapsed": false
   },
   "outputs": [
    {
     "name": "stdout",
     "output_type": "stream",
     "text": [
      "[  1.1  89.9   8.9  -1.1  30. ]\n"
     ]
    }
   ],
   "source": [
    "\"\"\"Pipe Specifications\"\"\"\n",
    "#array of pipe lengths\n",
    "L = np.array([600, 2300, 700, 1300, 1200])\n",
    "Di = np.array([700, 600, 400, 500, 600])\n",
    "Do = np.array([720, 630, 426, 529, 630])\n",
    "insulation = np.array([110, 105, 95, 100, 105])\n",
    "Do_insul = Do + insulation*2 #Outer diameer of pipe + 2*insulation thickness\n",
    "#print (Do_insul)\n",
    "\n",
    "\"\"\"Given Measured Data\"\"\"\n",
    "#Define Q preliminary field; flow rate of the ith node\n",
    "Q = np.array([-117.0, 19.0, 19.0, 79.0, 0.0, 0.0])\n",
    "\n",
    "#Measured pressure data at nodes 1, 2, 3 and 4; initial guess for node 5 and 6\n",
    "P = np.array([0.705, 0.679, 0.563, 0.445])\n",
    "P5 = 0.5*(P[0]+P[1])             #P5 = 0.5*(P1+P2)             initial guess\n",
    "mx = 0.5*(max(P[2], P[3])+P5)    #P6 = 0.5*( max(P3,P4) + P5)  initial guess\n",
    "P = np.append(P, [P5,mx]) \n",
    "\n",
    "#Measured temp data at nodes 1, 2, 3 and 4; initial guess for node 5 and 6\n",
    "T = np.array([286+273.15, 195+273.15, 246+273.15, 256+273.15])\n",
    "mx = max(T[2], T[3])-1.1     #P6 = max(P3,P4) initial guess\n",
    "T = np.append(T, [T[0]-1.1,mx]) #P5 = P1 initial guess\n",
    "#print (\"temp at nodes:\", T)\n",
    "\n",
    "#Delta T for each pipe segment\n",
    "dT = np.array([T[0]-T[4], T[4]-T[1], T[5]-T[2], T[5]-T[3], T[4]-T[5]])\n",
    "print (dT)\n",
    "\n",
    "#create array of isobaric specific heat at pipeline\n",
    "cp = np.array([sp_heat(T[0]), sp_heat(T[4]), sp_heat(T[5]), sp_heat(T[5]), sp_heat(T[4])])\n",
    "#print (cp)\n",
    "\n",
    "\n",
    "#for heat loss (q_l) calculation, set Ta at inlet temp\n",
    "#Temperature of pipeline\n",
    "Ta = np.array([T[0], T[4], T[5], T[5], T[4],])\n",
    "#print (\"temp at pipes:\", Ta)\n",
    "\n",
    "#define atmospheric temp\n",
    "Tatm = 305.15\n",
    "\n",
    "#print (\"Tatm-Ta: \", Tatm-Ta)\n",
    "#print (\"Do/Di: \", (Do/Di))\n",
    "#d = Do/Di\n",
    "#np.log(Do/Di)\n",
    "#np.log(Do/Di)/(2*math.pi*epsilon) + (1/(math.pi * epsilon ))\n",
    "#print (\"2nd term: \", 1/(math.pi*Do*aw(1.1111)))\n",
    "\n",
    "#def hl(Do, Di):\n",
    "#    print (\"New func:\", np.log(Do/Di))\n",
    "#    return np.log(Do/Di)\n",
    "#hl(Do, Di)\n",
    "\n",
    "#def heat_loss (To, Ta, epsilon, Do, Di, aw):\n",
    "#    num = To-Ta\n",
    "#    d1 = np.log(Do/Di)/(2*epsilon*math.pi)\n",
    "#    d2 = 1/(math.pi*Do*aw)\n",
    "#    print (num, \"\\n\", d1, \"\\n\", d2)\n",
    "#    return (num / (d1 + d2))\n",
    "\n",
    "aw1 = aw(1.11111)\n",
    "#q_l = heat_loss(Tatm, Ta, epsilon, Do_insul, Di, aw1)\n",
    "#print (q_l)\n",
    "#print (278*cp*dT, cp, dT)"
   ]
  },
  {
   "cell_type": "code",
   "execution_count": 154,
   "metadata": {
    "collapsed": false
   },
   "outputs": [
    {
     "name": "stdout",
     "output_type": "stream",
     "text": [
      "[  1.1  89.9   8.9  -1.1  30. ]\n",
      "[ -79.71935425   -3.29662144   -8.89692244  153.08429345   -5.15419595]\n",
      "[[ -79.71935425    3.29662144    8.89692244 -153.08429345   71.26853686\n",
      "   149.34156696]]\n",
      "[-117.   19.   19.   79.    0.    0.]\n",
      "[[-196.71935425   22.29662144   27.89692244  -74.08429345   71.26853686\n",
      "   149.34156696]]\n"
     ]
    },
    {
     "data": {
      "text/plain": [
       "2.8421709430404007e-14"
      ]
     },
     "execution_count": 154,
     "metadata": {},
     "output_type": "execute_result"
    }
   ],
   "source": [
    "\"\"\"Step 1: Calculate heat_loss (W/m)\"\"\"\n",
    "#calculate heat loss vector along pipe (W/m)\n",
    "q_l = heat_loss(Tatm, Ta, epsilon, Do_insul, Di, aw1)\n",
    "#print (q_l)\n",
    "#calculate mass flow vector along pipe\n",
    "q_f = mass_flow(beta, q_l, L, cp, dT)\n",
    "#print (q_f)\n",
    "\n",
    "#test q vector; flow rate of each pipe\n",
    "q = (1+beta)*q_l* L / (278 * cp * dT)\n",
    "print (dT)\n",
    "print (q)\n",
    "\n",
    "Aq = np.dot(A,q)\n",
    "print (Aq)\n",
    "print(Q)\n",
    "obj = Aq + Q\n",
    "print (obj)\n",
    "np.sum(obj)\n",
    "\n",
    "#def mass_flow (beta, heat_l, L, sp_heat, deltaT):\n",
    "#    return ((1+beta)*heat_l*L)/(278*sp_heat*deltaT)"
   ]
  },
  {
   "cell_type": "markdown",
   "metadata": {},
   "source": [
    "## Flow chart of flow rate calculation\n",
    "\n",
    "<iiimg src=\"images\\flow_chart.png\" ,width=700,height=1400>"
   ]
  },
  {
   "cell_type": "markdown",
   "metadata": {},
   "source": [
    "## Determine matrix \"A\" and Q\n",
    "\n"
   ]
  },
  {
   "cell_type": "code",
   "execution_count": 155,
   "metadata": {
    "collapsed": false
   },
   "outputs": [
    {
     "data": {
      "text/plain": [
       "66"
      ]
     },
     "execution_count": 155,
     "metadata": {},
     "output_type": "execute_result"
    }
   ],
   "source": [
    "\"\"\"Define matrix A based on given steam pipeline network\"\"\"\n",
    "A = np.matrix('1, 0, 0, 0, 0; \\\n",
    "               0, -1, 0, 0, 0; \\\n",
    "               0, 0, -1, 0, 0; \\\n",
    "               0, 0, 0, -1, 0; \\\n",
    "               -1, 1, 0, 0, 1; \\\n",
    "               0, 0, 1, 1, -1')\n",
    "q = np.array([2, 4, 6, 8, 10])\n",
    "\n",
    "np.dot(A, q)\n",
    "\n",
    "a = np.array([1, 2, 3])\n",
    "b = np.array([10, 20, 30])\n",
    "c = a + b\n",
    "np.add(a, b)\n",
    "#print (c)\n",
    "np.sum(c)"
   ]
  }
 ],
 "metadata": {
  "kernelspec": {
   "display_name": "Python 3",
   "language": "python",
   "name": "python3"
  },
  "language_info": {
   "codemirror_mode": {
    "name": "ipython",
    "version": 3
   },
   "file_extension": ".py",
   "mimetype": "text/x-python",
   "name": "python",
   "nbconvert_exporter": "python",
   "pygments_lexer": "ipython3",
   "version": "3.5.2"
  },
  "latex_envs": {
   "bibliofile": "biblio.bib",
   "cite_by": "apalike",
   "current_citInitial": 1,
   "eqLabelWithNumbers": true,
   "eqNumInitial": 0
  }
 },
 "nbformat": 4,
 "nbformat_minor": 0
}
