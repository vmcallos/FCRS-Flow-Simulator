{
 "cells": [
  {
   "cell_type": "code",
   "execution_count": 276,
   "metadata": {
    "collapsed": false
   },
   "outputs": [
    {
     "name": "stdout",
     "output_type": "stream",
     "text": [
      "0.0019392683356514282\n"
     ]
    }
   ],
   "source": [
    "%run conservation_equations.ipynb\n",
    "import numpy as np\n",
    "import math\n",
    "import matplotlib.pyplot as plt\n",
    "from iapws import IAPWS97"
   ]
  },
  {
   "cell_type": "code",
   "execution_count": 277,
   "metadata": {
    "collapsed": false
   },
   "outputs": [],
   "source": [
    "\"\"\"Define Inlet Parameters\"\"\"\n",
    "diameter = 0.1023\n",
    "mass_flow = 4.991\n",
    "pressure = 0.101325\n",
    "length = 170\n",
    "roughness = 0.000046"
   ]
  },
  {
   "cell_type": "code",
   "execution_count": 278,
   "metadata": {
    "collapsed": false
   },
   "outputs": [
    {
     "data": {
      "text/plain": [
       "'Define Outlet Parameters'"
      ]
     },
     "execution_count": 278,
     "metadata": {},
     "output_type": "execute_result"
    }
   ],
   "source": [
    "'''Define Outlet Parameters'''\n",
    "#diameter2 = diameter\n",
    "#mass_flow2 = mass_flow"
   ]
  },
  {
   "cell_type": "code",
   "execution_count": 279,
   "metadata": {
    "collapsed": false
   },
   "outputs": [],
   "source": [
    "\"\"\"Define Fittings\"\"\"\n",
    "#Represent in a list of 8\n",
    "fittings_list = [0, 2, 0, 0, 0, 0, 0, 0]\n",
    "#fittings [0] = elbow_45  #fittings [1] = elbow_90\n",
    "#fittings [2] = tee       #fittings [3] = return_bend\n",
    "#fittings [4] = coupling  #fittings [5] = union\n",
    "#fittings [6] = gate_valve_full  #fittings [7] = gate_valve_half"
   ]
  },
  {
   "cell_type": "code",
   "execution_count": 280,
   "metadata": {
    "collapsed": false
   },
   "outputs": [
    {
     "name": "stdout",
     "output_type": "stream",
     "text": [
      "373.12430000048056 0.5976231155158966 1.2231265400560397e-05\n"
     ]
    }
   ],
   "source": [
    "'''Calculate parameters from steam table'''\n",
    "sat_steam = IAPWS97(P = pressure, x=1)\n",
    "temperature = sat_steam.T\n",
    "density = sat_steam.rho\n",
    "dynamic_viscosity = sat_steam.mu\n",
    "print(temperature, density, dynamic_viscosity)"
   ]
  },
  {
   "cell_type": "code",
   "execution_count": 281,
   "metadata": {
    "collapsed": false
   },
   "outputs": [
    {
     "name": "stdout",
     "output_type": "stream",
     "text": [
      "1016.0592497656231\n"
     ]
    }
   ],
   "source": [
    "'''Calculate Derived Parameters'''\n",
    "#Relative roughness\n",
    "relative_roughness = roughness / diameter\n",
    "\n",
    "#cross sectional area\n",
    "area = math.pi * diameter**2 / 4\n",
    "#for straight pipe\n",
    "area2 = area\n",
    "\n",
    "#velocity\n",
    "velocity = mass_flow / (density * area)\n",
    "print(velocity)"
   ]
  },
  {
   "cell_type": "code",
   "execution_count": 282,
   "metadata": {
    "collapsed": false
   },
   "outputs": [
    {
     "name": "stdout",
     "output_type": "stream",
     "text": [
      "0.004377313133426006\n",
      "nRE 61808.03745074626\n",
      "5.383274572639061 0.005389999999998275\n",
      "373.12430000048056 0.1023 1016.0592497656231 0.0004496578690127077 170\n"
     ]
    }
   ],
   "source": [
    "'''Skin Friction Calculation'''\n",
    "nRE = reynolds_number(diameter, 0.6083, 998.2, 0.001005)\n",
    "friction_factor = ff_colebrook(nRE, relative_roughness)\n",
    "friction_skin = f_skin(temperature, diameter, 0.6083, relative_roughness, length)\n",
    "print('nRE',nRE)\n",
    "print(friction_skin, friction_factor)\n",
    "print(temperature, diameter, velocity, relative_roughness, length)"
   ]
  },
  {
   "cell_type": "code",
   "execution_count": 283,
   "metadata": {
    "collapsed": false
   },
   "outputs": [],
   "source": [
    "'''Pipe Enlargement and contraction '''\n",
    "friction_expansion = f_expansion(area, area2, velocity)\n",
    "friction_contraction = f_contraction(area, area2, velocity)"
   ]
  },
  {
   "cell_type": "code",
   "execution_count": 284,
   "metadata": {
    "collapsed": false
   },
   "outputs": [
    {
     "name": "stdout",
     "output_type": "stream",
     "text": [
      "1016.0592497656231 0.27752166749999996\n"
     ]
    }
   ],
   "source": [
    "'''Losses in fittings and valves'''\n",
    "friction_fittings = f_fittings(0.6083, fittings_list)\n",
    "print (velocity, friction_fittings)"
   ]
  },
  {
   "cell_type": "code",
   "execution_count": 285,
   "metadata": {
    "collapsed": false
   },
   "outputs": [
    {
     "name": "stdout",
     "output_type": "stream",
     "text": [
      "5.660796240139061\n"
     ]
    }
   ],
   "source": [
    "'''Calulate total friction losses'''\n",
    "friction_total = friction_skin + friction_expansion + friction_contraction + friction_fittings\n",
    "print (friction_total)"
   ]
  },
  {
   "cell_type": "code",
   "execution_count": 286,
   "metadata": {
    "collapsed": true
   },
   "outputs": [],
   "source": [
    "'''Define Parameters for heat loss'''\n",
    "#Convective heat transfer coefficient (h; W/m**K)\n",
    "h_steam_pipe = 36\n",
    "h_insulation_air = 7\n",
    "#Insulation\n",
    "t_insulation = 2 * 0.0254    #insulation thickness (m)\n",
    "k_insulation = 0.05          #insulation's thermal conductivity (W/m** K)\n",
    "#Pipe\n",
    "t_pipe = 0.01         #pipeline thickness (m)\n",
    "k_pipe = 56           #pipe's thermal conductivity (W/m** K)\n",
    "id_pipe = 0.25        #pipe's inner diameter (m)\n",
    "l_pipe = 6000         #length of pipeline (m)\n",
    "#Temp\n",
    "t1 = 180.21           #temp inside the pipeline\n",
    "t2 = 23               #temp; atmospheric "
   ]
  }
 ],
 "metadata": {
  "kernelspec": {
   "display_name": "Python 3",
   "language": "python",
   "name": "python3"
  },
  "language_info": {
   "codemirror_mode": {
    "name": "ipython",
    "version": 3
   },
   "file_extension": ".py",
   "mimetype": "text/x-python",
   "name": "python",
   "nbconvert_exporter": "python",
   "pygments_lexer": "ipython3",
   "version": "3.5.2"
  },
  "latex_envs": {
   "bibliofile": "biblio.bib",
   "cite_by": "apalike",
   "current_citInitial": 1,
   "eqLabelWithNumbers": true,
   "eqNumInitial": 0
  }
 },
 "nbformat": 4,
 "nbformat_minor": 0
}
