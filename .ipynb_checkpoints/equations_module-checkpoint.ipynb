{
 "cells": [
  {
   "cell_type": "code",
   "execution_count": 10,
   "metadata": {
    "collapsed": true
   },
   "outputs": [],
   "source": [
    "import math\n",
    "import numpy as np\n",
    "import matplotlib.pyplot as plt\n",
    "from iapws import IAPWS97"
   ]
  },
  {
   "cell_type": "markdown",
   "metadata": {},
   "source": [
    "# Heat Transport\n",
    "\n",
    "The equation of the conservation of energy is expressed as:\n",
    "\n",
    "$$ \\Delta \\left( H + \\frac { u^2 }{2} + gZ \\right) = Q - W_s $$\n",
    "$$ VdP + udu + gdZ + \\sum F = 0 $$\n",
    "$$ VdP + udu + gdZ + \\sum F = Q - W_s $$\n",
    "\n",
    "The rate of heat transfer to the control volume element to the surroundings (Rajput, 1999) is given by:\n",
    "\n",
    "$$H_{T} = - \\frac{\\ 2 \\pi dL (T_{in} - T_{out}) }\n",
    "    {\\left[\\frac{1}{h_{in}r_1} \n",
    "    + \\frac{ln \\left(\\frac{r_2}{r_1} \\right)} {k_A}\n",
    "    + \\frac{ln \\left(\\frac{r_3}{r_2} \\right)} {k_B}\n",
    "    + \\frac{1}{h_{out}r_3}\n",
    "    \\right]}$$"
   ]
  },
  {
   "cell_type": "code",
   "execution_count": 2,
   "metadata": {
    "collapsed": true
   },
   "outputs": [],
   "source": [
    "def convection (h, r):\n",
    "    \"\"\"convective heat transport steam and inner pipe\"\"\"\n",
    "    return 1/(h*r)\n",
    "\n",
    "def conduction (r1, r2, k):\n",
    "    \"\"\"conductive heat transport across pipe and insulation\"\"\"\n",
    "    return math.log(r2/r1) / k\n",
    "\n",
    "#Generic function to calculate Ht for a given pipe length\n",
    "def heat_transfer(L, t_in, t_out, h_in, h_out, k_a, k_b, r1, r2, r3):\n",
    "    pi_2 = 2 * math.pi\n",
    "    numerator = pi_2 * L * (t_in - t_out)\n",
    "    c1 = convection(h_in, r1)\n",
    "    c2 = conduction(r1, r2, k_a)\n",
    "    c3 = conduction(r2, r3, k_b)\n",
    "    c4 = convection(h_out, r3)\n",
    "    c_tot = c1 + c2 + c3 + c4\n",
    "    return -(numerator / c_tot)\n",
    "\n",
    "#Heat loss along the pipe length with dL units; output in array\n",
    "def calc_heat_loss(x, t_in, t_out, h_in, h_out, k_a, k_b, r1, r2, r3):\n",
    "    tot_loss = []\n",
    "    for i in x:\n",
    "        loss = heat_transfer(i, t_in, t_out, h_in, h_out, k_a, k_b, r1, r2, r3)\n",
    "        tot_loss.append(loss)\n",
    "    tot_loss = np.absolute(tot_loss)*1e-6\n",
    "    return tot_loss"
   ]
  },
  {
   "cell_type": "markdown",
   "metadata": {},
   "source": [
    "# Momentum Transport\n",
    "\n",
    "$$ VdP + udu + gdZ + \\sum F = 0 $$\n",
    "\n",
    "$$ (\\frac{\\frac{1}{\\rho_i}+\\frac{1}{\\rho_{i-1}}}{2})(p_i - p_{i-1})\n",
    "    + \\frac{u^{2}_{i}-u^{2}_{i-1}}{2}\n",
    "    + g (Z_i + Z_{i-1})\n",
    "    + \\sum F \n",
    "    = 0 $$\n",
    "    \n",
    "Assumptions: \n",
    "   * $ du = 0 $ for straight pipe\n",
    "   * Pipe roughness, carbon steel; $ \\epsilon $ = 0.000046 m\n",
    "   * $ g = 9.81 \\frac{m}{s^{2}} $\n",
    "   * $ \\rho_i $ from steam table; AIPWS97\n",
    "   * $ \\rho_{i-1} $"
   ]
  },
  {
   "cell_type": "markdown",
   "metadata": {},
   "source": [
    "# Frictional  loses in mechanical energy balance equation\n",
    "\n",
    "Frictional loses from the friction in:\n",
    "* straight pipe (Fanning friction)\n",
    "* enlargement losses $K_ex$\n",
    "* contraction losses $K_c$\n",
    "* losses in fittings and valves $K_f $\n",
    "\n",
    "$$ \\sum F = 4f \\frac{\\Delta L}{D} \\frac{v^{2}}{2}\n",
    "    + K_{ex} \\frac{v^{2}_1}{2}\n",
    "    + K_c \\frac{v^{2}_2}{2}\n",
    "    + K_f \\frac{v^{2}_1}{2} $$\n",
    "    \n",
    "If the velocity of fluid is changed in direction or magnitude, additional friction losses occur. This results from additional turbulence which develops beause of vortices and other factors. Method to estimate the losses are discussed below:"
   ]
  },
  {
   "cell_type": "code",
   "execution_count": 3,
   "metadata": {
    "collapsed": false
   },
   "outputs": [],
   "source": [
    "\"\"\"Function to calculate Skin Friction\"\"\"\n",
    "def reynolds_number (diameter, velocity, density, dynamic_viscosity):\n",
    "    return (diameter*velocity*density/dynamic_viscosity)\n",
    "\n",
    "def reynolds_number_test():\n",
    "    test_re = reynolds_number(0.3353, 2.523, 60.52, 0.000233)\n",
    "    return (test_re - 219732) < 100\n",
    "\n",
    "#Option1 to calculate friction factor\n",
    "def ff_fanning (reynolds_number, relative_roughness):\n",
    "    B = (37530/reynolds_number)**16\n",
    "    A = (2.457*math.log(((7/reynolds_number)**0.9 +\\\n",
    "        (0.27*(relative_roughness)))**-1))**16\n",
    "    f = 2*((8/reynolds_number)**12+(A+B)**-1.5)**(1/12)\n",
    "    return f\n",
    "\n",
    "#Option2 for friction factor; iterative solution using colebrook equation\n",
    "def ff_colebrook(reynolds_number, relative_roughness):\n",
    "    friction = 0.08 #Starting Friction Factor\n",
    "    while 1:\n",
    "        leftF = 1 / friction**0.5 #Solve Left side of Eqn\n",
    "        rightF = - 4 * math.log10(1.256/(reynolds_number * friction**0.5)+(relative_roughness/3.7)) # Solve Right side of Eqn\n",
    "        friction = friction - 0.00001 #Change Friction Factor\n",
    "        if (rightF - leftF <= 0): #Check if Left = Right\n",
    "            break\n",
    "    return friction\n",
    "\n",
    "#generic function to calculate skin friction\n",
    "def skin (fanning_factor, length, diameter, velocity, gc = 1):\n",
    "    return 4*fanning_factor*length* velocity**2 / (diameter*2*gc)\n",
    "\n",
    "#main function to calculate skin friction\n",
    "def f_skin(t_sat, diameter, velocity, relative_roughness, length, gc = 1):\n",
    "    #convert p_sat()\n",
    "    t_sat = t_sat + 273.15\n",
    "    #calculate density and dynamic viscosity from IAPWS 97\n",
    "    sat_steam=IAPWS97(T=t_sat,x=0)  #saturated steam with known P\n",
    "    density = sat_steam.rho #* 0.062428\n",
    "    dynamic_viscosity = sat_steam.mu #* 0.67196897514\n",
    "    #calculate reynolds number\n",
    "    n_reynolds = reynolds_number(diameter, velocity, density, dynamic_viscosity)\n",
    "    #calculate fannings friction factor\n",
    "    fanning_factor = ff_fanning(n_reynolds, relative_roughness)\n",
    "    #print (fanning_factor)\n",
    "    return 4*fanning_factor*length* velocity**2 / (diameter*2*gc)"
   ]
  },
  {
   "cell_type": "markdown",
   "metadata": {},
   "source": [
    "A. __Sudden enlargement losses.__ If the cross section of the pipe enlarges suddenly, it results in additional lossesdue to eddies formed by the jet expanding in the enlarged section. This friction loss can be calculated by the following for turbulent flow in both sections:\n",
    "\n",
    "$$ h_{ex} = \\frac {(v_i - v_2)^{2}}{2 \\alpha} \n",
    "    = \\left(1 - \\frac{A_1}{A_2}\\right)^{2} \\frac{v^{2}_1}{2 \\alpha} $$\n",
    "    \n",
    "where $h_{ex}$ is the friction loss in $J/kg, K_{ex}$ is the expansion-loss coefficient and $ = (1-A_1/A_2)^{2}, v_1$ is the upstream velocity in the smaller area in $m/s, v_2$ is the downstream velocity and $\\alpha = 1.0$"
   ]
  },
  {
   "cell_type": "code",
   "execution_count": 4,
   "metadata": {
    "collapsed": false
   },
   "outputs": [],
   "source": [
    "\"\"\"Function to calculate friction loss from pipe enlargement / expansion\"\"\"\n",
    "def f_expansion(area_upstream, area_downstream, v, alpha=1, gc = 1): #set gc = 32.174 if english units\n",
    "    Kex = 1-(area_upstream/area_downstream)\n",
    "    #print (Kex)\n",
    "    return Kex * v**2 / (2 * alpha * gc)\n",
    "#for flow from pipe to tank where area_downstream >>> area_upstream A1/A2 -> 0"
   ]
  },
  {
   "cell_type": "markdown",
   "metadata": {},
   "source": [
    "B. __Sudden contraction losses.__ When the cross section of the pipe is suddenly reduced, the stream cannot flow around the sharp corner, and additional frictional losses due to eddies occur. For turbulent flow, this is given by:\n",
    "\n",
    "$$ h_c = 0.55 \\left( 1- \\frac{A_2}{A_1} \\right) \\frac{v^{2}_2}{2 \\alpha}  \n",
    "    = K_c \\frac{v^{2}_2} {2 \\alpha} \\frac{J}{kg}  $$\n",
    "    \n",
    "where $h_c$ is the friction loss, $\\alpha = 1.0$ for turbulent flow, $v_2$ is the average velocity in the smaller or downstream section, and $K_c$ is the contraction-loss coefficient (P1) and approximately equals $0.55(1-A_2/A_1)$. For laminar flow, the same equation can be used with $\\alpha = \\frac{1}{2}(S2)$."
   ]
  },
  {
   "cell_type": "code",
   "execution_count": 5,
   "metadata": {
    "collapsed": false
   },
   "outputs": [],
   "source": [
    "\"\"\"Function to calculate friction loss from pipe contraction\"\"\"\n",
    "def f_contraction(area_upstream, area_downstream, v, alpha = 1, gc = 1): #set gc = 32.174 if english units\n",
    "    Kc = 0.55 * (1- (area_downstream / area_upstream))\n",
    "    return Kc * v**2 / (2 * alpha * gc)\n",
    "#for flow from pipe to tank where area_upstream >>> area_downstream A2/A1 -> 0"
   ]
  },
  {
   "cell_type": "markdown",
   "metadata": {},
   "source": [
    "C. __Losses in fittings and valves.__ Pipe fittings and valves also disturb the normal flow lines in a pipe and cause additional friction losses. In a short pipe with many fittings, the friction loss from these fittings could be greater than in the straight pipe. The friction loss for fittings and valves is given by the following equation:\n",
    "$$ h_f = K_f \\frac{v^{2}_1}{2}  $$\n",
    "\n",
    "where $K_f$ is the loss factor for the fitting or valve and $v_i$ is the average velocity in the pipe leading to the fitting. Experimental values for $K_f$ are given in the python dictionary \"Kf\" for turbulent flow. For english units, the right side is divided by $g_c$."
   ]
  },
  {
   "cell_type": "code",
   "execution_count": 6,
   "metadata": {
    "collapsed": false
   },
   "outputs": [],
   "source": [
    "\"\"\"Total friction loss from fittings and valves\n",
    "-->h_f is a function of Kf and velocity only\n",
    "-->The function will require only velocity and list of #fittings as input value; \n",
    "\"\"\" \n",
    "#Generic function for calculating friction loss thru fittings and valves\n",
    "def fittings (n, Kf, v, gc=1):\n",
    "    return n* Kf * v**2 * 0.5 / gc\n",
    "   \n",
    "def f_fittings (v, f_list, gc = 1): #set gc = 32.174 if english units\n",
    "    \"\"\"Dictionary for Friction Loss; Turbulent Flow Through Valves and Fittings\"\"\"\n",
    "    Kf = {'elbow45': 0.45, 'elbow90': 0.55, 'tee': 1, 'return_bend': 1.5, \\\n",
    "         'coupling': 0.04, 'union': 0.04, 'gate_valve_full': 0.17, 'gate_valve_half': 4.5}\n",
    "    f_elbow45 = fittings(f_list[0], Kf['elbow45'], v, gc)\n",
    "    f_elbow90 = fittings(f_list[1], Kf['elbow90'], v, gc)\n",
    "    f_tee = fittings(f_list[2], Kf['tee'], v, gc)\n",
    "    f_return_bend = fittings(f_list[3], Kf['return_bend'], v, gc)\n",
    "    f_coupling = fittings(f_list[4], Kf['coupling'], v, gc)\n",
    "    f_union = fittings(f_list[5], Kf['union'], v, gc)\n",
    "    f_gate_valve_full = fittings(f_list[6], Kf['gate_valve_full'], v, gc)\n",
    "    f_gate_valve_half = fittings(f_list[7], Kf['gate_valve_half'], v, gc)\n",
    "    \n",
    "    fittings_total = f_elbow45+f_elbow90+f_tee+f_return_bend+f_coupling+f_union+f_gate_valve_full+f_gate_valve_half\n",
    "    return fittings_total"
   ]
  },
  {
   "cell_type": "markdown",
   "metadata": {},
   "source": [
    "## Potential Energy $ g dZ $"
   ]
  },
  {
   "cell_type": "code",
   "execution_count": 7,
   "metadata": {
    "collapsed": true
   },
   "outputs": [],
   "source": [
    "def head (z_inlet, z_outlet, g=9.81, gc = 1):\n",
    "    return g*(z_inlet - z_outlet)/gc"
   ]
  },
  {
   "cell_type": "markdown",
   "metadata": {},
   "source": [
    "# Solve for Outlet Pressure"
   ]
  },
  {
   "cell_type": "code",
   "execution_count": 8,
   "metadata": {
    "collapsed": true
   },
   "outputs": [],
   "source": [
    "def p_out (p1, f_total, gdz, udu, density, Q):\n",
    "    return p1 + (udu + gdz - f_total + Q)*density*1e-6"
   ]
  },
  {
   "cell_type": "code",
   "execution_count": 9,
   "metadata": {
    "collapsed": true
   },
   "outputs": [],
   "source": [
    "'''Solve for steam fraction at pipe outlet'''\n",
    "def x_out(t_loss, p_in, p_out):\n",
    "    steam = IAPWS97(P = p_in, x=1)\n",
    "    Hg = steam.h\n",
    "    steam = IAPWS97(P = p_out, x=1)\n",
    "    hg = steam.h\n",
    "    brine = IAPWS97(P = p_out, x=0)\n",
    "    hf = brine.h\n",
    "    #print(Hg, hg, hf, p_out, t_loss)\n",
    "    return ((t_loss) + Hg - hf)/(hg-hf)"
   ]
  },
  {
   "cell_type": "markdown",
   "metadata": {},
   "source": [
    "# Main function to calculate pressure drop"
   ]
  },
  {
   "cell_type": "code",
   "execution_count": null,
   "metadata": {
    "collapsed": true
   },
   "outputs": [],
   "source": [
    "def pressure_drop(z1, z2, Diameter, MassFlow, InletPressure, Length, Elbow_45, Elbow_90, GateValve_FullyOpen, \\\n",
    "                  ThermalConductivity, InsulationThickness, Diameter2, roughness):\n",
    "    '''Calculate parameters from steam table'''\n",
    "    sat_steam = IAPWS97(P = InletPressure, x=1)\n",
    "    temperature = sat_steam.T\n",
    "    density = sat_steam.rho\n",
    "    enthalpy =  sat_steam.h\n",
    "    dynamic_viscosity = sat_steam.mu\n",
    "    #print(temperature, density, dynamic_viscosity, enthalpy)\n",
    "    \n",
    "    '''Calculate Derived Parameters'''\n",
    "    Diameter = Diameter\n",
    "    #Relative roughness\n",
    "    #roughness = 0.000046\n",
    "    relative_roughness = roughness / Diameter\n",
    "    #cross sectional area\n",
    "    area = math.pi * Diameter**2 / 4\n",
    "    area2 = math.pi * Diameter2**2 / 4\n",
    "    #velocity\n",
    "    velocity = MassFlow / (density * area)\n",
    "    velocity2 = MassFlow/ (density * area2)\n",
    "    #print(velocity, velocity2)\n",
    "    \n",
    "    '''Skin Friction Calculation'''\n",
    "    nRE = reynolds_number(Diameter, velocity, density, dynamic_viscosity)\n",
    "    friction_factor = ff_colebrook(nRE, relative_roughness)\n",
    "    friction_skin = f_skin(temperature, Diameter, velocity, relative_roughness, Length)\n",
    "    #print('skin friction :', friction_skin, velocity, area, MassFlow )\n",
    "    \n",
    "    '''Pipe Enlargement and contraction '''\n",
    "    if area == area2:\n",
    "        friction_expansion = 0\n",
    "        friction_contraction = 0\n",
    "    else:\n",
    "        if area < area2:\n",
    "            friction_expansion = f_expansion(area, area2, velocity)\n",
    "            friction_contraction = 0\n",
    "            #print('expansion')\n",
    "        else:\n",
    "            friction_expansion = 0\n",
    "            friction_contraction = f_contraction(area, area2, velocity)\n",
    "            #print('contraction')\n",
    "    \n",
    "    \"\"\"Define Fittings\"\"\"\n",
    "    #Represent in a list of 8\n",
    "    fittings_list = [0, 0, 0, 0, 0, 0, 0, 0]\n",
    "    fittings_list[0] = Elbow_45\n",
    "    fittings_list[1] = Elbow_90\n",
    "    fittings_list[6] = GateValve_FullyOpen\n",
    "    #fittings [0] = elbow_45  #fittings [1] = elbow_90\n",
    "    #fittings [2] = tee       #fittings [3] = return_bend\n",
    "    #fittings [4] = coupling  #fittings [5] = union\n",
    "    #fittings [6] = gate_valve_full  #fittings [7] = gate_valve_half\n",
    "    '''Losses in fittings and valves'''\n",
    "    friction_fittings = f_fittings(velocity, fittings_list)\n",
    "    #print (velocity, friction_fittings)\n",
    "    n_fittings = sum(fittings_list)\n",
    "    \n",
    "    '''Calulate total friction losses'''\n",
    "    friction_total = friction_skin + friction_expansion + friction_contraction + friction_fittings\n",
    "    \n",
    "    \n",
    "    '''Define Parameters for heat loss'''\n",
    "    #Convective heat transfer coefficient (h; W/m**K)\n",
    "    h_steam_pipe = 36\n",
    "    h_insulation_air = 7\n",
    "    #Insulation\n",
    "    t_insulation = InsulationThickness          #insulation thickness (m)\n",
    "    k_insulation = ThermalConductivity          #insulation's thermal conductivity (W/m** K)\n",
    "    #Pipe\n",
    "    t_pipe = 0.5 * 0.0254          #pipeline thickness (m)\n",
    "    k_pipe = 56           #pipe's thermal conductivity (W/m** K)\n",
    "    #Temp\n",
    "    t1 = temperature - 273.15           #temp inside the pipeline\n",
    "    t2 = 25                             #temp; atmospheric\n",
    "    \n",
    "    r1 = Diameter\n",
    "    r2 = Diameter + t_pipe\n",
    "    r3 = Diameter + t_pipe + t_insulation\n",
    "    \n",
    "    h_t = heat_transfer(Length, t1, t2, h_steam_pipe, h_insulation_air, k_pipe, k_insulation, r1, r2, r3)\n",
    "    Q = h_t / MassFlow\n",
    "    \n",
    "    '''Calculate gdZ'''\n",
    "    gdz = head(z1, z2)\n",
    "    \n",
    "    '''Calculate udu'''\n",
    "    udu = (velocity**2 - velocity2**2)/2\n",
    "\n",
    "    '''Calculate outlet pressure'''\n",
    "    p2 = p_out(InletPressure, friction_total, gdz, udu, density, Q )\n",
    "    t_loss = friction_total - Q + gdz + udu\n",
    "    \n",
    "    '''Calculate steam flow at the end of pipeline'''\n",
    "    X = x_out(t_loss*-1e-3, InletPressure, p2)\n",
    "    sf_out = X*MassFlow\n",
    "    \n",
    "    print('{:26}'.format('Velocity (m/s)'), '{:>16.2f}'.format(velocity))\n",
    "    print('{:26}'.format('Tot Loss (J/kg)'), '{:>16.2f}'.format(t_loss))\n",
    "    print('{:26}'.format('Heat Loss (J/kg)'), '{:>16.2f}'.format(-Q))\n",
    "    print ('{:26}'.format('d K.E. (J/kg)'), '{:>16.2f}'.format(udu))\n",
    "    print ('{:26}'.format('d P.E. (J/kg)'), '{:>16.2f}'.format(gdz))\n",
    "    print ('{:26}'.format('Friction Loss (J/kg)'), '{:>16.2f}'.format(friction_total))\n",
    "    print ('{:26}'.format('  Skin Friction (J/kg)'), '{:>16.2f}'.format(friction_skin))\n",
    "    print ('{:26}'.format('  Expansion (J/kg)'), '{:>16.2f}'.format(friction_expansion))\n",
    "    print ('{:26}'.format('  Contraction (J/kg)'), '{:>16.2f}'.format(friction_contraction))\n",
    "    print ('{:26}'.format('  Fittings Friction (J/kg)'), '{:>16.2f}'.format(friction_fittings))\n",
    "    print ('{:26}'.format('Inlet Pressure (Mpa)'), '{:>16.2f}'.format(InletPressure))\n",
    "    print ('{:26}'.format('Outlet Pressure (Mpa)'), '{:>16.2f}'.format(p2))\n",
    "    print('{:26}'.format('SF_in (kg/s)'), '{:>16.2f}'.format(MassFlow))\n",
    "    print('{:26}'.format('SF_out (kg/s)'), '{:>16.2f}'.format(sf_out))\n",
    "    print ('\\n', '===================================================', '\\n')\n",
    "    data = (velocity, t_loss, -Q, friction_skin, friction_expansion, friction_contraction, friction_fittings, \\\n",
    "           InletPressure, p2, MassFlow, sf_out, udu, gdz, Length, n_fittings)\n",
    "    \n",
    "    return [p2, sf_out, data]"
   ]
  },
  {
   "cell_type": "markdown",
   "metadata": {},
   "source": [
    "### References:\n",
    "\n",
    "Geankoplis, C. J. (1993). Transport Process and Unit Operations, 3aEd.\n",
    "\n",
    "Rajput, R.K. (1999). Heat and mass transfer: New Delhi, India, S. Chand and Company Ltd., 691 pp.\n",
    "\n",
    "Verma, M. P. (2013). Steam transport simulation in a geothermal pipeline network constrained by internally consistent thermodynamic properties of water. Revista Mexicana de Ciencias Geológicas, 30(1), 210-221."
   ]
  }
 ],
 "metadata": {
  "kernelspec": {
   "display_name": "Python 3",
   "language": "python",
   "name": "python3"
  },
  "language_info": {
   "codemirror_mode": {
    "name": "ipython",
    "version": 3
   },
   "file_extension": ".py",
   "mimetype": "text/x-python",
   "name": "python",
   "nbconvert_exporter": "python",
   "pygments_lexer": "ipython3",
   "version": "3.5.2"
  },
  "latex_envs": {
   "bibliofile": "biblio.bib",
   "cite_by": "apalike",
   "current_citInitial": 1,
   "eqLabelWithNumbers": true,
   "eqNumInitial": 0
  }
 },
 "nbformat": 4,
 "nbformat_minor": 0
}
