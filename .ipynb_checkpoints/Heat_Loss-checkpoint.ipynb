{
 "cells": [
  {
   "cell_type": "markdown",
   "metadata": {
    "slideshow": {
     "slide_type": "slide"
    }
   },
   "source": [
    "# Conservation of Energy"
   ]
  },
  {
   "cell_type": "markdown",
   "metadata": {
    "slideshow": {
     "slide_type": "fragment"
    }
   },
   "source": [
    "The equation of the conservation of energy is expressed as:\n",
    "\n",
    "$$ \\Delta \\left( H + \\frac { u^2 }{2} + gZ \\right) = Q - W_s $$"
   ]
  },
  {
   "cell_type": "markdown",
   "metadata": {
    "slideshow": {
     "slide_type": "fragment"
    }
   },
   "source": [
    "Where:\n",
    "* $Q$       is the amount of heat per unit mass given to the control volume element from surroundings <br />\n",
    "* $W_s$     is the shaft work per unit mass (which is zero in this case) <br />\n",
    "* $H$       is the enthalpy per unit mass <br />\n",
    "* $Z$       is the elevation from the datum line <br />\n",
    "* $g$       is the acceleration due to gravity <br />"
   ]
  },
  {
   "cell_type": "markdown",
   "metadata": {
    "slideshow": {
     "slide_type": "subslide"
    }
   },
   "source": [
    "Schematic diagram of $i^{th}$ control volume element of a pipeline, $T$,  $P$, $Z$ and $\\dot{m}$ represent temperature, pressure, elevation and mass flow rate at the node $i-1$ and $i$, respectively.\n",
    "\n",
    "<img src=\"https://github.com/vmcallos/FCRS-Flow-Simulator/blob/master/images/radial_section.PNG?raw=true\", width=200,height=200>"
   ]
  },
  {
   "cell_type": "markdown",
   "metadata": {
    "slideshow": {
     "slide_type": "subslide"
    }
   },
   "source": [
    "The cross-sectional view of the element shows the positive heat flux $Q_i$, $r_1$, $r_2$ and $r_3$ are radii of inner and outer part of the pipeline and outer part of the insulation over it, respectively.\n",
    "\n",
    "<img src=\"https://github.com/vmcallos/FCRS-Flow-Simulator/blob/master/images/cross_section.PNG?raw=true\" ,width=100,height=100>"
   ]
  },
  {
   "cell_type": "markdown",
   "metadata": {
    "slideshow": {
     "slide_type": "subslide"
    }
   },
   "source": [
    "The rate of heat transfer to the control volume element to the surroundings (Rajput, 1999) is given by:\n",
    "\n",
    "$$H_{T} = - \\frac{\\ 2 \\pi dL (T_{in} - T_{out}) }\n",
    "    {\\left[\\frac{1}{h_{in}r_1} \n",
    "    + \\frac{ln \\left(\\frac{r_2}{r_1} \\right)} {k_A}\n",
    "    + \\frac{ln \\left(\\frac{r_3}{r_2} \\right)} {k_B}\n",
    "    + \\frac{1}{h_{out}r_3}\n",
    "    \\right]}$$"
   ]
  },
  {
   "cell_type": "code",
   "execution_count": null,
   "metadata": {
    "collapsed": true
   },
   "outputs": [],
   "source": []
  },
  {
   "cell_type": "code",
   "execution_count": 1,
   "metadata": {
    "collapsed": true,
    "slideshow": {
     "slide_type": "skip"
    }
   },
   "outputs": [],
   "source": [
    "#Import Libraries\n",
    "import math\n",
    "import numpy as np\n",
    "import matplotlib.pyplot as plt"
   ]
  },
  {
   "cell_type": "markdown",
   "metadata": {
    "slideshow": {
     "slide_type": "slide"
    }
   },
   "source": [
    "# Define Pipe and Insulation Variables"
   ]
  },
  {
   "cell_type": "code",
   "execution_count": 2,
   "metadata": {
    "collapsed": true,
    "slideshow": {
     "slide_type": "fragment"
    }
   },
   "outputs": [],
   "source": [
    "#Convective heat transfer coefficient (h; W/m**K)\n",
    "h_steam_pipe = 36\n",
    "h_insulation_air = 7\n",
    "#Insulation\n",
    "t_insulation = 2 * 0.0254    #insulation thickness (m)\n",
    "k_insulation = 0.05   #insulation's thermal conductivity (W/m** K)\n",
    "#Pipe\n",
    "t_pipe = 0.01         #pipeline thickness (m)\n",
    "k_pipe = 56           #pipe's thermal conductivity (W/m** K)\n",
    "id_pipe = 0.25        #pipe's inner diameter (m)\n",
    "l_pipe = 6000         #length of pipeline (m)\n",
    "#Temp\n",
    "t1 = 180.21           #temp inside the pipeline\n",
    "t2 = 23               #temp; atmospheric "
   ]
  },
  {
   "cell_type": "markdown",
   "metadata": {
    "slideshow": {
     "slide_type": "slide"
    }
   },
   "source": [
    "# Define Main and Sub Functions"
   ]
  },
  {
   "cell_type": "code",
   "execution_count": 3,
   "metadata": {
    "collapsed": true,
    "slideshow": {
     "slide_type": "fragment"
    }
   },
   "outputs": [],
   "source": [
    "def convection (h, r):\n",
    "    \"\"\"convective heat transport steam and inner pipe\"\"\"\n",
    "    return 1/(h*r)\n",
    "\n",
    "def conduction (r1, r2, k):\n",
    "    \"\"\"conductive heat transport across pipe and insulation\"\"\"\n",
    "    return math.log(r2/r1) / k\n",
    "\n",
    "def heat_transfer(L, t_in, t_out, h_in, h_out, k_a, k_b, r1, r2, r3):\n",
    "    pi_2 = 2 * math.pi\n",
    "    numerator = pi_2 * L * (t_in - t_out)\n",
    "    c1 = convection(h_in, r1)\n",
    "    c2 = conduction(r1, r2, k_a)\n",
    "    c3 = conduction(r2, r3, k_b)\n",
    "    c4 = convection(h_out, r3)\n",
    "    c_tot = c1 + c2 + c3 + c4\n",
    "    return -(numerator / c_tot)\n",
    "\n",
    "def calc_heat_loss(x, t_in, t_out, h_in, h_out, k_a, k_b, r1, r2, r3):\n",
    "    tot_loss = []\n",
    "    for i in x:\n",
    "        loss = heat_transfer(i, t_in, t_out, h_in, h_out, k_a, k_b, r1, r2, r3)\n",
    "        tot_loss.append(loss)\n",
    "    tot_loss = np.absolute(tot_loss)/1000000\n",
    "    return tot_loss"
   ]
  },
  {
   "cell_type": "code",
   "execution_count": 4,
   "metadata": {
    "collapsed": false
   },
   "outputs": [
    {
     "name": "stdout",
     "output_type": "stream",
     "text": [
      "True\n"
     ]
    }
   ],
   "source": [
    "y=2\n",
    "x=3\n",
    "\n",
    "print (y<x)"
   ]
  },
  {
   "cell_type": "markdown",
   "metadata": {
    "slideshow": {
     "slide_type": "slide"
    }
   },
   "source": [
    "# Sample Calculation"
   ]
  },
  {
   "cell_type": "code",
   "execution_count": 18,
   "metadata": {
    "collapsed": false,
    "scrolled": true,
    "slideshow": {
     "slide_type": "fragment"
    }
   },
   "outputs": [
    {
     "name": "stdout",
     "output_type": "stream",
     "text": [
      "-238.54716284688337\n"
     ]
    }
   ],
   "source": [
    "r1 = id_pipe\n",
    "r2 = id_pipe + t_pipe\n",
    "r3 = id_pipe + t_pipe + t_insulation\n",
    "\n",
    "heat_loss = heat_transfer(l_pipe, t1, t2, h_steam_pipe, h_insulation_air, k_pipe, k_insulation, r1, r2, r3)\n",
    "print (heat_loss / l_pipe)\n",
    "#heat_loss = np.absolute(heat_loss)/1000000\n",
    "#print (\"Total heat loss is\", '{:^7.2f}'.format(heat_loss), \"Megawatts\")"
   ]
  },
  {
   "cell_type": "code",
   "execution_count": 6,
   "metadata": {
    "collapsed": false,
    "slideshow": {
     "slide_type": "skip"
    }
   },
   "outputs": [
    {
     "name": "stdout",
     "output_type": "stream",
     "text": [
      "Wall time: 500 µs\n"
     ]
    }
   ],
   "source": [
    "%%time\n",
    "nL = 6     #number of divisions\n",
    "dL = l_pipe/nL   #delta L; increment length\n",
    "\n",
    "#create the list of distances that will be used to calc heat_loss \n",
    "x = np.linspace(0, l_pipe, nL+1)\n",
    "\n",
    "#calculate the heat loss for the given list of distances 'x'; output will be a list of heat loss also\n",
    "normal_loss = calc_heat_loss(x, t1, t2, h_steam_pipe, h_insulation_air, k_pipe, k_insulation, r1, r2, r3)\n",
    "#for max heat loss; no insulation; insulation thickness = 0; thus r2 = r3\n",
    "max_loss = calc_heat_loss(x, t1, t2, h_steam_pipe, h_insulation_air, k_pipe, k_insulation, r1, r2, r2)\n",
    "\n",
    "#get the absolute value (sign is just for the direction of heat flow); and convert watts to megawatts\n",
    "#max_loss = np.absolute(max_loss)/1000000\n",
    "#normal_loss = np.absolute(normal_loss)/1000000"
   ]
  },
  {
   "cell_type": "code",
   "execution_count": 7,
   "metadata": {
    "collapsed": false,
    "slideshow": {
     "slide_type": "skip"
    }
   },
   "outputs": [
    {
     "data": {
      "text/plain": [
       "<matplotlib.legend.Legend at 0x2179822b0b8>"
      ]
     },
     "execution_count": 7,
     "metadata": {},
     "output_type": "execute_result"
    }
   ],
   "source": [
    "#Define the plot properties\n",
    "plt.plot(x, normal_loss, '--b', alpha=0.8, label='with insulation')\n",
    "plt.plot(x, max_loss, '--r', label='no insulation')\n",
    "plt.xlabel(\"Pipe Length (m)\")\n",
    "plt.ylabel(\"Heat Loss (MWe)\")\n",
    "plt.legend(loc=2)"
   ]
  },
  {
   "cell_type": "markdown",
   "metadata": {
    "slideshow": {
     "slide_type": "slide"
    }
   },
   "source": [
    "# Plot of Heat Loss along the pipeline"
   ]
  },
  {
   "cell_type": "code",
   "execution_count": 8,
   "metadata": {
    "collapsed": false,
    "slideshow": {
     "slide_type": "fragment"
    }
   },
   "outputs": [
    {
     "data": {
      "image/png": "[encoded data removed]",
      "text/plain": [
       "<matplotlib.figure.Figure at 0x21798033b00>"
      ]
     },
     "metadata": {},
     "output_type": "display_data"
    }
   ],
   "source": [
    "#show the plot\n",
    "plt.show()"
   ]
  },
  {
   "cell_type": "markdown",
   "metadata": {
    "slideshow": {
     "slide_type": "subslide"
    }
   },
   "source": [
    "## Display the simulated values"
   ]
  },
  {
   "cell_type": "code",
   "execution_count": 9,
   "metadata": {
    "collapsed": false,
    "scrolled": true,
    "slideshow": {
     "slide_type": "fragment"
    }
   },
   "outputs": [
    {
     "name": "stdout",
     "output_type": "stream",
     "text": [
      "    Distance      No Insulation   With Insulation \n",
      "       0               0.00             0.00      \n",
      "      1000             1.49             0.24      \n",
      "      2000             2.99             0.48      \n",
      "      3000             4.48             0.72      \n",
      "      4000             5.98             0.95      \n",
      "      5000             7.47             1.19      \n",
      "      6000             8.96             1.43      \n"
     ]
    }
   ],
   "source": [
    "print ('{:^16}'.format('Distance'), '{:^16}'.format('No Insulation'), '{:^16}'.format('With Insulation'),)\n",
    "for i in range(len(x)): \n",
    "    print ('{:^16.0f}'.format(x[i]), '{:^16.2f}'.format(max_loss[i]), '{:^16.2f}'.format(normal_loss[i]))"
   ]
  },
  {
   "cell_type": "markdown",
   "metadata": {
    "slideshow": {
     "slide_type": "slide"
    }
   },
   "source": [
    "# Quantify the effect of modifying pipeline insulation\n",
    "\n",
    "* Using an insulation with lower thermal conductivity\n",
    "* Increasing insulation thickness"
   ]
  },
  {
   "cell_type": "markdown",
   "metadata": {
    "slideshow": {
     "slide_type": "slide"
    }
   },
   "source": [
    "# Effect of modifying the insulation material"
   ]
  },
  {
   "cell_type": "code",
   "execution_count": 10,
   "metadata": {
    "collapsed": false
   },
   "outputs": [
    {
     "data": {
      "text/plain": [
       "<matplotlib.legend.Legend at 0x217989a9780>"
      ]
     },
     "execution_count": 10,
     "metadata": {},
     "output_type": "execute_result"
    }
   ],
   "source": [
    "loss_07 = calc_heat_loss(x, t1, t2, h_steam_pipe, h_insulation_air, k_pipe, 0.07, r1, r2, r3)\n",
    "loss_06 = calc_heat_loss(x, t1, t2, h_steam_pipe, h_insulation_air, k_pipe, 0.06, r1, r2, r3)\n",
    "loss_04 = calc_heat_loss(x, t1, t2, h_steam_pipe, h_insulation_air, k_pipe, 0.04, r1, r2, r3)\n",
    "loss_03 = calc_heat_loss(x, t1, t2, h_steam_pipe, h_insulation_air, k_pipe, 0.03, r1, r2, r3)\n",
    "\n",
    "plt.plot(x, max_loss, '--r', label='no insulation')\n",
    "plt.plot(x, normal_loss, '--b', alpha=0.8, label='with insulation')\n",
    "plt.plot(x, loss_07, ':c', label='k = 0.07', alpha=0.6)\n",
    "plt.plot(x, loss_06, '-.c', label='k = 0.06', alpha=0.6)\n",
    "plt.plot(x, loss_04, '-.m', label='k = 0.04', alpha=0.6)\n",
    "plt.plot(x, loss_03, ':m', label='k = 0.03', alpha=0.6)\n",
    "plt.xlabel(\"Pipe Length (m)\")\n",
    "plt.ylabel(\"Heat Loss (MWe)\")\n",
    "plt.legend(loc=2)"
   ]
  },
  {
   "cell_type": "code",
   "execution_count": 11,
   "metadata": {
    "collapsed": false,
    "slideshow": {
     "slide_type": "subslide"
    }
   },
   "outputs": [
    {
     "data": {
      "image/png": "[encoded data removed]",
      "text/plain": [
       "<matplotlib.figure.Figure at 0x21798958d30>"
      ]
     },
     "metadata": {},
     "output_type": "display_data"
    }
   ],
   "source": [
    "plt.show()"
   ]
  },
  {
   "cell_type": "markdown",
   "metadata": {
    "slideshow": {
     "slide_type": "subslide"
    }
   },
   "source": [
    "# Display the simulated values"
   ]
  },
  {
   "cell_type": "code",
   "execution_count": 12,
   "metadata": {
    "collapsed": false,
    "slideshow": {
     "slide_type": "fragment"
    }
   },
   "outputs": [
    {
     "name": "stdout",
     "output_type": "stream",
     "text": [
      "    Distance         k = 0.07         k = 0.06         k = 0.04         k = 0.03    \n",
      "       0               0.00             0.00             0.00             0.00      \n",
      "      1000             0.32             0.28             0.20             0.15      \n",
      "      2000             0.63             0.56             0.39             0.30      \n",
      "      3000             0.95             0.84             0.59             0.45      \n",
      "      4000             1.27             1.11             0.79             0.61      \n",
      "      5000             1.58             1.39             0.98             0.76      \n",
      "      6000             1.90             1.67             1.18             0.91      \n"
     ]
    }
   ],
   "source": [
    "print ('{:^16}'.format('Distance'), \\\n",
    "      '{:^16}'.format('k = 0.07'), '{:^16}'.format('k = 0.06'), '{:^16}'.format('k = 0.04'), '{:^16}'.format('k = 0.03'))\n",
    "for i in range(len(x)): \n",
    "    print ('{:^16.0f}'.format(x[i]), \\\n",
    "        '{:^16.2f}'.format(loss_07[i]), '{:^16.2f}'.format(loss_06[i]), \\\n",
    "        '{:^16.2f}'.format(loss_04[i]), '{:^16.2f}'.format(loss_03[i]))"
   ]
  },
  {
   "cell_type": "markdown",
   "metadata": {
    "slideshow": {
     "slide_type": "slide"
    }
   },
   "source": [
    "# Effect of increasing insulation thickness"
   ]
  },
  {
   "cell_type": "code",
   "execution_count": 13,
   "metadata": {
    "collapsed": false,
    "slideshow": {
     "slide_type": "skip"
    }
   },
   "outputs": [
    {
     "data": {
      "text/plain": [
       "<matplotlib.legend.Legend at 0x21798a47978>"
      ]
     },
     "execution_count": 13,
     "metadata": {},
     "output_type": "execute_result"
    }
   ],
   "source": [
    "r3 = id_pipe + t_pipe + 0.5 * 0.0254\n",
    "loss_05in = calc_heat_loss(x, t1, t2, h_steam_pipe, h_insulation_air, k_pipe, k_insulation, r1, r2, r3)\n",
    "r3 = id_pipe + t_pipe + 1 * 0.0254\n",
    "loss_1in = calc_heat_loss(x, t1, t2, h_steam_pipe, h_insulation_air, k_pipe, k_insulation, r1, r2, r3)\n",
    "r3 = id_pipe + t_pipe + 3 * 0.0254\n",
    "loss_3in = calc_heat_loss(x, t1, t2, h_steam_pipe, h_insulation_air, k_pipe, k_insulation, r1, r2, r3)\n",
    "r3 = id_pipe + t_pipe + 4 * 0.0254\n",
    "loss_4in = calc_heat_loss(x, t1, t2, h_steam_pipe, h_insulation_air, k_pipe, k_insulation, r1, r2, r3)\n",
    "\n",
    "plt.plot(x, max_loss, '--r', label='no insulation')\n",
    "plt.plot(x, normal_loss, '--b', alpha=0.8, label='with insulation')\n",
    "plt.plot(x, loss_4in, ':c', label='t = 4 in', alpha=0.6)\n",
    "plt.plot(x, loss_3in, '-.c', label='t = 3 in', alpha=0.6)\n",
    "plt.plot(x, loss_1in, '-.m', label='t = 1 in', alpha=0.6)\n",
    "plt.plot(x, loss_05in, ':m', label='t = 0.5 in', alpha=0.6)\n",
    "plt.xlabel(\"Pipe Length (m)\")\n",
    "plt.ylabel(\"Heat Loss (MWe)\")\n",
    "plt.legend(loc=2)"
   ]
  },
  {
   "cell_type": "code",
   "execution_count": 14,
   "metadata": {
    "collapsed": false,
    "slideshow": {
     "slide_type": "fragment"
    }
   },
   "outputs": [
    {
     "data": {
      "image/png": "[encoded data removed]",
      "text/plain": [
       "<matplotlib.figure.Figure at 0x21798a006d8>"
      ]
     },
     "metadata": {},
     "output_type": "display_data"
    }
   ],
   "source": [
    "plt.show()"
   ]
  },
  {
   "cell_type": "markdown",
   "metadata": {
    "slideshow": {
     "slide_type": "subslide"
    }
   },
   "source": [
    "# Display the simulated values"
   ]
  },
  {
   "cell_type": "code",
   "execution_count": 15,
   "metadata": {
    "collapsed": false,
    "slideshow": {
     "slide_type": "fragment"
    }
   },
   "outputs": [
    {
     "name": "stdout",
     "output_type": "stream",
     "text": [
      "    Distance        t = 0.5 in        t = 1 in         t = 3 in         t = 4 in    \n",
      "       0               0.00             0.00             0.00             0.00      \n",
      "      1000             0.62             0.40             0.17             0.14      \n",
      "      2000             1.24             0.80             0.35             0.28      \n",
      "      3000             1.86             1.20             0.52             0.42      \n",
      "      4000             2.49             1.60             0.70             0.56      \n",
      "      5000             3.11             1.99             0.87             0.70      \n",
      "      6000             3.73             2.39             1.04             0.83      \n"
     ]
    }
   ],
   "source": [
    "print ('{:^16}'.format('Distance'), \\\n",
    "      '{:^16}'.format('t = 0.5 in'), '{:^16}'.format('t = 1 in'), '{:^16}'.format('t = 3 in'), '{:^16}'.format('t = 4 in'))\n",
    "for i in range(len(x)): \n",
    "    print ('{:^16.0f}'.format(x[i]), \\\n",
    "        '{:^16.2f}'.format(loss_05in[i]), '{:^16.2f}'.format(loss_1in[i]), \\\n",
    "        '{:^16.2f}'.format(loss_3in[i]), '{:^16.2f}'.format(loss_4in[i]))"
   ]
  },
  {
   "cell_type": "markdown",
   "metadata": {
    "slideshow": {
     "slide_type": "skip"
    }
   },
   "source": [
    "# Interactive Plot"
   ]
  },
  {
   "cell_type": "code",
   "execution_count": 16,
   "metadata": {
    "collapsed": false,
    "slideshow": {
     "slide_type": "skip"
    }
   },
   "outputs": [
    {
     "name": "stdout",
     "output_type": "stream",
     "text": [
      "1.43 MWe\n",
      "k= 0.05 t= 0.0508\n"
     ]
    },
    {
     "data": {
      "text/plain": [
       "<function __main__.test_transfer>"
      ]
     },
     "execution_count": 16,
     "metadata": {},
     "output_type": "execute_result"
    }
   ],
   "source": [
    "import matplotlib.pyplot as plt\n",
    "from __future__ import print_function\n",
    "from ipywidgets import interact, interactive, fixed, FloatSlider\n",
    "import ipywidgets as widgets\n",
    "import math\n",
    " \n",
    "x_widget = FloatSlider(min=0.01, max=0.2, step=0.005, value = 0.05)      #thermal conductivity 0 to 0.1\n",
    "y_widget = FloatSlider(min=0.0, max=8.0, step=0.25, value=2.0)           #thickness 0 to 10\n",
    "\n",
    "def printer(Thermal_Conductivity, Insulation_Thickness):\n",
    "    print(Thermal_Conductivity, Insulation_Thickness)\n",
    "    print (Thermal_Conductivity)\n",
    "    print(Insulation_Thickness, \"only\")\n",
    "L = 6000  \n",
    "def test_transfer(Thermal_Conductivity, Insulation_Thickness):\n",
    "    L=6000\n",
    "    Insulation_Thickness = Insulation_Thickness*0.0254\n",
    "    t_in=180.21\n",
    "    t_out=23\n",
    "    h_in=36\n",
    "    h_out=7\n",
    "    k_a=56 \n",
    "    id_pipe=0.25\n",
    "    t_pipe=0.01 \n",
    "    r1 = id_pipe\n",
    "    r2 = id_pipe + t_pipe\n",
    "    r3 = id_pipe + t_pipe + Insulation_Thickness\n",
    "    pi_2 = 2 * math.pi\n",
    "    numerator = pi_2 * L * (t_in - t_out)\n",
    "    c1 = convection(h_in, r1)\n",
    "    c2 = conduction(r1, r2, k_a)\n",
    "    c3 = conduction(r2, r3, Thermal_Conductivity)\n",
    "    c4 = convection(h_out, r3)\n",
    "    c_tot = c1 + c2 + c3 + c4\n",
    "    print (round((numerator / c_tot)/1000000,2), 'MWe')\n",
    "    print ('k=', Thermal_Conductivity, 't=', Insulation_Thickness)\n",
    "   \n",
    "interact(test_transfer,Thermal_Conductivity=x_widget, Insulation_Thickness=y_widget)"
   ]
  },
  {
   "cell_type": "code",
   "execution_count": 17,
   "metadata": {
    "collapsed": false,
    "slideshow": {
     "slide_type": "skip"
    }
   },
   "outputs": [
    {
     "name": "stdout",
     "output_type": "stream",
     "text": [
      "1.43 MWe\n",
      "k= 0.05 t= 0.0508\n"
     ]
    },
    {
     "data": {
      "text/plain": [
       "<function __main__.test_transfer>"
      ]
     },
     "execution_count": 17,
     "metadata": {},
     "output_type": "execute_result"
    }
   ],
   "source": [
    "import matplotlib.pyplot as plt\n",
    "from __future__ import print_function\n",
    "from ipywidgets import interact, interactive, fixed, FloatSlider\n",
    "import ipywidgets as widgets\n",
    "import math\n",
    " \n",
    "x_widget = FloatSlider(min=0.01, max=0.2, step=0.005, value = 0.05)      #thermal conductivity 0 to 0.1\n",
    "y_widget = FloatSlider(min=0.0, max=8.0, step=0.25, value=2.0)           #thickness 0 to 10\n",
    "\n",
    "\n",
    "\n",
    "\n",
    "def calc_heat_loss(x, t_in, t_out, h_in, h_out, k_a, k_b, r1, r2, r3):\n",
    "    tot_loss = []\n",
    "    for i in x:\n",
    "        loss = heat_transfer(i, t_in, t_out, h_in, h_out, k_a, k_b, r1, r2, r3)\n",
    "        tot_loss.append(loss)\n",
    "    tot_loss = np.absolute(tot_loss)/1000000\n",
    "    return tot_loss\n",
    "\n",
    "interact(test_transfer,Thermal_Conductivity=x_widget, Insulation_Thickness=y_widget)"
   ]
  },
  {
   "cell_type": "markdown",
   "metadata": {
    "collapsed": true,
    "slideshow": {
     "slide_type": "slide"
    }
   },
   "source": [
    "### References:\n",
    "\n",
    "Rajput, R.K. (1999). Heat and mass transfer: New Delhi, India, S. Chand and Company Ltd., 691 pp.\n",
    "\n",
    "Verma, M. P. (2013). Steam transport simulation in a geothermal pipeline network constrained by internally consistent thermodynamic properties of water. Revista Mexicana de Ciencias Geológicas, 30(1), 210-221.\n",
    "\n"
   ]
  }
 ],
 "metadata": {
  "celltoolbar": "Slideshow",
  "kernelspec": {
   "display_name": "Python 3",
   "language": "python",
   "name": "python3"
  },
  "language_info": {
   "codemirror_mode": {
    "name": "ipython",
    "version": 3
   },
   "file_extension": ".py",
   "mimetype": "text/x-python",
   "name": "python",
   "nbconvert_exporter": "python",
   "pygments_lexer": "ipython3",
   "version": "3.5.2"
  },
  "latex_envs": {
   "bibliofile": "biblio.bib",
   "cite_by": "apalike",
   "current_citInitial": 1,
   "eqLabelWithNumbers": true,
   "eqNumInitial": 0
  }
 },
 "nbformat": 4,
 "nbformat_minor": 0
}
