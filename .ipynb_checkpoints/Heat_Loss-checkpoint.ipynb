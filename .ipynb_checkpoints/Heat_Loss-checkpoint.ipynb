{
 "cells": [
  {
   "cell_type": "code",
   "execution_count": 101,
   "metadata": {
    "collapsed": true,
    "slideshow": {
     "slide_type": "skip"
    }
   },
   "outputs": [],
   "source": [
    "#Import Libraries\n",
    "import math\n",
    "import numpy as np\n",
    "import matplotlib.pyplot as plt"
   ]
  },
  {
   "cell_type": "markdown",
   "metadata": {
    "slideshow": {
     "slide_type": "slide"
    }
   },
   "source": [
    "# Define Pipe and Insulation Variables"
   ]
  },
  {
   "cell_type": "code",
   "execution_count": 102,
   "metadata": {
    "collapsed": true,
    "slideshow": {
     "slide_type": "fragment"
    }
   },
   "outputs": [],
   "source": [
    "#Convective heat transfer coefficient (h; W/m**K)\n",
    "h_steam_pipe = 36\n",
    "h_insulation_air = 7\n",
    "#Insulation\n",
    "t_insulation = 0.10    #insulation thickness (m)\n",
    "k_insulation = 0.05   #insulation's thermal conductivity (W/m** K)\n",
    "#Pipe\n",
    "t_pipe = 0.01         #pipeline thickness (m)\n",
    "k_pipe = 56           #pipe's thermal conductivity (W/m** K)\n",
    "id_pipe = 0.25        #pipe's inner diameter (m)\n",
    "l_pipe = 6000         #length of pipeline (m)\n",
    "#Temp\n",
    "t1 = 180.21           #temp inside the pipeline\n",
    "t2 = 23               #temp; atmospheric "
   ]
  },
  {
   "cell_type": "markdown",
   "metadata": {
    "slideshow": {
     "slide_type": "slide"
    }
   },
   "source": [
    "# Define Main and Sub Functions"
   ]
  },
  {
   "cell_type": "code",
   "execution_count": 103,
   "metadata": {
    "collapsed": true,
    "slideshow": {
     "slide_type": "fragment"
    }
   },
   "outputs": [],
   "source": [
    "def convection (h, r):\n",
    "    \"\"\"convective heat transport steam and inner pipe\"\"\"\n",
    "    return 1/(h*r)\n",
    "\n",
    "def conduction (r1, r2, k):\n",
    "    return math.log(r2/r1) / k\n",
    "\n",
    "def heat_transfer(L, t_in, t_out, h_in, h_out, k_a, k_b, r1, r2, r3):\n",
    "    pi_2 = 2 * math.pi\n",
    "    numerator = pi_2 * L * (t_in - t_out)\n",
    "    #print numerator\n",
    "    c1 = convection(h_in, r1)\n",
    "    #print c1\n",
    "    c2 = conduction(r1, r2, k_a)\n",
    "    #print c2\n",
    "    c3 = conduction(r2, r3, k_b)\n",
    "    #print c3\n",
    "    c4 = convection(h_out, r3)\n",
    "    #print c4\n",
    "    c_tot = c1 + c2 + c3 + c4\n",
    "    return -(numerator / c_tot)\n",
    "\n",
    "def calc_heat_loss(x, t_in, t_out, h_in, h_out, k_a, k_b, r1, r2, r3):\n",
    "    tot_loss = []\n",
    "    for i in x:\n",
    "        loss = heat_transfer(i, t_in, t_out, h_in, h_out, k_a, k_b, r1, r2, r3)\n",
    "        tot_loss.append(loss)\n",
    "    return tot_loss"
   ]
  },
  {
   "cell_type": "markdown",
   "metadata": {
    "slideshow": {
     "slide_type": "slide"
    }
   },
   "source": [
    "# Sample Calculation"
   ]
  },
  {
   "cell_type": "code",
   "execution_count": 104,
   "metadata": {
    "collapsed": false,
    "slideshow": {
     "slide_type": "fragment"
    }
   },
   "outputs": [
    {
     "name": "stdout",
     "output_type": "stream",
     "text": [
      "-844606.7660157086 watts\n"
     ]
    }
   ],
   "source": [
    "r1 = id_pipe\n",
    "r2 = id_pipe + t_pipe\n",
    "r3 = id_pipe + t_pipe + t_insulation\n",
    "\n",
    "heat_loss = heat_transfer(l_pipe, t1, t2, h_steam_pipe, h_insulation_air, k_pipe, k_insulation, r1, r2, r3)\n",
    "print (heat_loss, \"watts\")"
   ]
  },
  {
   "cell_type": "markdown",
   "metadata": {
    "slideshow": {
     "slide_type": "slide"
    }
   },
   "source": [
    "# Conservation of Energy"
   ]
  },
  {
   "cell_type": "markdown",
   "metadata": {
    "slideshow": {
     "slide_type": "fragment"
    }
   },
   "source": [
    "The equation of the conservation of energy is expressed as:\n",
    "\n",
    "$$ \\Delta \\left( H + \\frac { u^2 }{2} + gZ \\right) = Q - W_s $$"
   ]
  },
  {
   "cell_type": "markdown",
   "metadata": {
    "slideshow": {
     "slide_type": "fragment"
    }
   },
   "source": [
    "Where:\n",
    "* $Q$       is the amount of heat per unit mass given to the control volume element from surroundings <br />\n",
    "* $W_s$     is the shaft work per unit mass (which is zero in this case) <br />\n",
    "* $H$       is the enthalpy per unit mass <br />\n",
    "* $Z$       is the elevation from the datum line <br />\n",
    "* $g$       is the acceleration due to gravity <br />"
   ]
  },
  {
   "cell_type": "markdown",
   "metadata": {
    "slideshow": {
     "slide_type": "subslide"
    }
   },
   "source": [
    "Schematic diagram of $i^{th}$ control volume element of a pipeline, $T$,  $P$, $Z$ and $\\dot{m}$ represent temperature, pressure, elevation and mass flow rate at the node $i-1$ and $i$, respectively.\n",
    "\n",
    "<img src=\"images/radial_section.png\",width=200,height=200>"
   ]
  },
  {
   "cell_type": "markdown",
   "metadata": {
    "slideshow": {
     "slide_type": "subslide"
    }
   },
   "source": [
    "The cross-sectional view of the element shows the positive heat flux $Q_i$, $r_1$, $r_2$ and $r_3$ are radii of inner and outer part of the pipeline and outer part of the insulation over it, respectively.\n",
    "\n",
    "<img src=\"images/cross_section.png\",width=100,height=100>"
   ]
  },
  {
   "cell_type": "markdown",
   "metadata": {
    "slideshow": {
     "slide_type": "subslide"
    }
   },
   "source": [
    "The rate of heat transfer to the control volume element to the surroundings (Rajput, 1999) is given by:\n",
    "\n",
    "$$H_{T} = - \\frac{\\ 2 \\pi dL (T_{in} - T_{out}) }\n",
    "    {\\left[\\frac{1}{h_{in}r_1} \n",
    "    + \\frac{ln \\left(\\frac{r_2}{r_1} \\right)} {k_A}\n",
    "    + \\frac{ln \\left(\\frac{r_3}{r_2} \\right)} {k_B}\n",
    "    + \\frac{1}{h_{out}r_3}\n",
    "    \\right]}$$"
   ]
  },
  {
   "cell_type": "code",
   "execution_count": 105,
   "metadata": {
    "collapsed": false
   },
   "outputs": [
    {
     "data": {
      "image/png": "[encoded data removed]",
      "text/plain": [
       "<matplotlib.figure.Figure at 0x1f126e73a90>"
      ]
     },
     "metadata": {},
     "output_type": "display_data"
    },
    {
     "name": "stdout",
     "output_type": "stream",
     "text": [
      "Wall time: 129 ms\n"
     ]
    }
   ],
   "source": [
    "%%time\n",
    "nL = 10      #number of divisions\n",
    "dL = L/nL    #delta L; increment length\n",
    "\n",
    "x = np.linspace(0, l_pipe, nL+1)\n",
    "\n",
    "normal_loss = calc_heat_loss(x, t1, t2, h_steam_pipe, h_insulation_air, k_pipe, k_insulation, r1, r2, r3)\n",
    "max_loss = calc_heat_loss(x, t1, t2, h_steam_pipe, h_insulation_air, k_pipe, k_insulation, r1, r2, r2)\n",
    "\n",
    "max_loss = np.absolute(max_loss)/1000000\n",
    "normal_loss = np.absolute(normal_loss)/1000000\n",
    "\n",
    "plt.plot(x, normal_loss, \"--b\")\n",
    "plt.plot(x, max_loss, \"--r\")\n",
    "plt.show()"
   ]
  },
  {
   "cell_type": "markdown",
   "metadata": {
    "collapsed": true,
    "slideshow": {
     "slide_type": "slide"
    }
   },
   "source": [
    "### References:\n",
    "\n",
    "Rajput, R.K. (1999). Heat and mass transfer: New Delhi, India, S. Chand and Company Ltd., 691 pp.\n",
    "\n",
    "Verma, M. P. (2013). Steam transport simulation in a geothermal pipeline network constrained by internally consistent thermodynamic properties of water. Revista Mexicana de Ciencias Geológicas, 30(1), 210-221.\n",
    "\n"
   ]
  }
 ],
 "metadata": {
  "celltoolbar": "Slideshow",
  "kernelspec": {
   "display_name": "Python 3",
   "language": "python",
   "name": "python3"
  },
  "language_info": {
   "codemirror_mode": {
    "name": "ipython",
    "version": 3
   },
   "file_extension": ".py",
   "mimetype": "text/x-python",
   "name": "python",
   "nbconvert_exporter": "python",
   "pygments_lexer": "ipython3",
   "version": "3.5.2"
  },
  "latex_envs": {
   "bibliofile": "biblio.bib",
   "cite_by": "apalike",
   "current_citInitial": 1,
   "eqLabelWithNumbers": true,
   "eqNumInitial": 0
  }
 },
 "nbformat": 4,
 "nbformat_minor": 0
}
