{
 "cells": [
  {
   "cell_type": "code",
   "execution_count": 96,
   "metadata": {
    "collapsed": false
   },
   "outputs": [],
   "source": [
    "import pandas as pd\n",
    "import math\n",
    "from iapws import IAPWS97\n",
    "import sys\n",
    "%run equations_module.ipynb\n",
    "%run class_module.ipynb\n",
    "sys.stdout = open(\"pipe network.log\", \"w\")"
   ]
  },
  {
   "cell_type": "code",
   "execution_count": 97,
   "metadata": {
    "collapsed": false
   },
   "outputs": [],
   "source": [
    "#import data frame for pipe network;\n",
    "net_df = pd.read_excel('bom.xls', sheetname=9, parse_cols='A:D')\n",
    "#import data frame for node attributes\n",
    "node_df = pd.read_excel('bom.xls', sheetname=8, parse_cols='A:D')\n",
    "#import dataframe for pipeline attributes\n",
    "pipe_df = pd.read_excel('bom.xls', sheetname=7)"
   ]
  },
  {
   "cell_type": "code",
   "execution_count": 98,
   "metadata": {
    "collapsed": false
   },
   "outputs": [],
   "source": [
    "network_graph = {}\n",
    "node_dict = {}\n",
    "pipe_dict = {}\n",
    "#Create a graph from nodes; in dictionary format\n",
    "for nodes in range (len(net_df.index)):\n",
    "    nodeID, inlet, outlet, pflow = map(lambda x: net_df.iloc[nodes, x], range(0,4))\n",
    "    network_graph[nodeID] = [inlet, outlet, pflow]\n",
    "\n",
    "for nodes in range(len(node_df.index)):\n",
    "    #create a node class for each row and store it in a dictionary\n",
    "    nodeID, P, mf, z = map(lambda x: node_df.iloc[nodes, x], range(0,4))\n",
    "    node_dict[nodeID] = node(nodeID, P, mf, z)\n",
    "\n",
    "for pipelines in range(len(pipe_df.index)):\n",
    "    #create a pipeline class for each row and store it in a dictionary\n",
    "    lineID, length, in_dia, roughness, pipe_t, insul_t, pipe_k, insul_k, n_elbow45, n_elbow90, n_tee, \\\n",
    "        n_rbend, n_coupling, n_union, n_gatefull, n_gatehalf, out_dia = \\\n",
    "        map(lambda x: pipe_df.iloc[pipelines, x], range(0,17))   \n",
    "    pipe_dict[lineID] = pipeline(lineID, length, in_dia, roughness, pipe_t, insul_t, pipe_k, insul_k, \\\n",
    "        n_elbow45, n_elbow90, n_tee, n_rbend, n_coupling, n_union, n_gatefull, n_gatehalf, out_dia)"
   ]
  },
  {
   "cell_type": "code",
   "execution_count": 99,
   "metadata": {
    "collapsed": false
   },
   "outputs": [],
   "source": [
    "node_out={}\n",
    "for x in sorted(network_graph):\n",
    "    \n",
    "    #edge[x][0] for input node; edge[x][1] for output node; x for pipeline\n",
    "    print('SteamLine', x, network_graph[x])\n",
    "    print('Percent Flow: ', network_graph[x][2])\n",
    "\n",
    "    t_loss = pressure_drop(node_dict[network_graph[x][0]].z, node_dict[network_graph[x][1]].z, pipe_dict[x].in_dia, \\\n",
    "                       node_dict[network_graph[x][0]].mf, \\\n",
    "                       node_dict[network_graph[x][0]].P, pipe_dict[x].length, pipe_dict[x].n_elbow45, \\\n",
    "                       pipe_dict[x].n_elbow90, pipe_dict[x].n_gatefull, pipe_dict[x].insul_k, \\\n",
    "                       pipe_dict[x].insul_t, pipe_dict[x].out_dia, pipe_dict[x].roughness)\n",
    "\n",
    "    if node_dict[network_graph[x][1]].P == 0:\n",
    "        node_dict[network_graph[x][1]].P = t_loss[0]\n",
    "    else:\n",
    "        node_dict[network_graph[x][1]].P = (node_dict[network_graph[x][1]].P + t_loss[0] )/2\n",
    "    node_dict[network_graph[x][1]].mf += t_loss[1] * network_graph[x][2]\n",
    "    print('Steam Flow Out: ', node_dict[network_graph[x][1]].mf)\n",
    "    #print(pipeline_dict[x].length, node_dict[edge[x][1]].mf)\n",
    "    #print(x)\n",
    "    node_out[x]= [node_dict[network_graph[x][1]].P, node_dict[network_graph[x][1]].mf]\n",
    "    #add other input and output information in the dictionary\n",
    "    for n in t_loss[2]:\n",
    "        node_out[x].append(n)   \n",
    "    "
   ]
  },
  {
   "cell_type": "code",
   "execution_count": 100,
   "metadata": {
    "collapsed": false
   },
   "outputs": [],
   "source": [
    "'''Export results to excel file'''\n",
    "df_out = pd.DataFrame(node_out)\n",
    "df_out = df_out.transpose()\n",
    "\n",
    "df_out.columns=['Pressure', 'SteamFlow', 'Velocity', 'TotalLoss', 'HeatLoss', 'SkinFriction', 'Expansion', \\\n",
    "                'Contraction', 'Fittings', 'InletPressure', 'OutletPressure', 'SF_in', 'SF_out', 'K.E.', 'P.E.', \\\n",
    "                'Length', '#Fittings']\n",
    "\n",
    "writer = pd.ExcelWriter('model_results.xls')\n",
    "df_out.to_excel(writer,'results')\n",
    "writer.save()"
   ]
  }
 ],
 "metadata": {
  "kernelspec": {
   "display_name": "Python 3",
   "language": "python",
   "name": "python3"
  },
  "language_info": {
   "codemirror_mode": {
    "name": "ipython",
    "version": 3
   },
   "file_extension": ".py",
   "mimetype": "text/x-python",
   "name": "python",
   "nbconvert_exporter": "python",
   "pygments_lexer": "ipython3",
   "version": "3.5.2"
  },
  "latex_envs": {
   "bibliofile": "biblio.bib",
   "cite_by": "apalike",
   "current_citInitial": 1,
   "eqLabelWithNumbers": true,
   "eqNumInitial": 0
  }
 },
 "nbformat": 4,
 "nbformat_minor": 0
}
