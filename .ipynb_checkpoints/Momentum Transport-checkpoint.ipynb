{
 "cells": [
  {
   "cell_type": "code",
   "execution_count": 66,
   "metadata": {
    "collapsed": true
   },
   "outputs": [],
   "source": [
    "import math\n",
    "from iapws import IAPWS97"
   ]
  },
  {
   "cell_type": "markdown",
   "metadata": {},
   "source": [
    "# Momentum Transport\n",
    "\n",
    "$$ VdP + udu + gdZ + dF = 0 $$\n",
    "\n",
    "$$ dF = \\frac{f u^{2}}{2D}dL $$\n",
    "\n",
    "$$ (\\frac{\\frac{1}{\\rho_i}+\\frac{1}{\\rho_{i-1}}}{2})(p_i - p_{i-1})\n",
    "    + \\frac{u^{2}_{i}-u^{2}_{i-1}}{2}\n",
    "    + g (Z_i + Z_{i-1})\n",
    "    + \\frac{f u_i u_{i-1}}{4r_i}dL \n",
    "    = 0 $$\n",
    "    \n",
    "Assumptions: \n",
    "   * $ du = 0 $ for straight pipe\n",
    "   * Pipe roughness, carbon steel; $ \\epsilon $ = 0.000046 m\n",
    "   * $ g = 9.81 \\frac{m}{s^{2}} $\n",
    "   * $ \\rho_i $ from steam table; AIPWS97\n",
    "   * $ \\rho_{i-1} $\n",
    "\n"
   ]
  },
  {
   "cell_type": "markdown",
   "metadata": {},
   "source": [
    "# Frictional  loses in mechanical energy balance equation\n",
    "\n",
    "Frictional loses from the friction in:\n",
    "* straight pipe (Fanning friction)\n",
    "* enlargement losses $K_ex$\n",
    "* contraction losses $K_c$\n",
    "* losses in fittings and valves $K_f $\n",
    "\n",
    "$$ \\sum F = 4f \\frac{\\Delta L}{D} \\frac{v^{2}}{2}\n",
    "    + K_{ex} \\frac{v^{2}_1}{2}\n",
    "    + K_c \\frac{v^{2}_2}{2}\n",
    "    + K_f \\frac{v^{2}_1}{2} $$\n",
    "    \n",
    "If the velocity of fluid is changed in direction or magnitude, additional friction losses occur. This results from additional turbulence which develops beause of vortices and other factors. Method to estimate the losses are discussed below:"
   ]
  },
  {
   "cell_type": "code",
   "execution_count": 78,
   "metadata": {
    "collapsed": false
   },
   "outputs": [
    {
     "name": "stdout",
     "output_type": "stream",
     "text": [
      "0.004620180670338759\n"
     ]
    },
    {
     "data": {
      "text/plain": [
       "0.10904728074008706"
      ]
     },
     "execution_count": 78,
     "metadata": {},
     "output_type": "execute_result"
    }
   ],
   "source": [
    "\"\"\"Function to calculate Skin Friction\"\"\"\n",
    "def reynolds_number (diameter, velocity, density, dynamic_viscosity):\n",
    "    return (diameter*velocity*density/dynamic_viscosity)\n",
    "\n",
    "def reynolds_number_test():\n",
    "    test_re = reynolds_number(0.3353, 2.523, 60.52, 0.000233)\n",
    "    return (test_re - 219732) < 100\n",
    "\n",
    "def ff_fanning (reynolds_number, relative_roughness):\n",
    "    B = (37530/reynolds_number)**16\n",
    "    A = (2.457*math.log(((7/reynolds_number)**0.9 +\\\n",
    "        (0.27*(relative_roughness)))**-1))**16\n",
    "    f = 2*((8/reynolds_number)**12+(A+B)**-1.5)**(1/12)\n",
    "    return f\n",
    "#ff_fanning(219300, 0.000448)\n",
    "\n",
    "#generic function to calculate skin friction\n",
    "def skin (fanning_factor, length, diameter, velocity, gc = 1):\n",
    "    return 4*fanning_factor*length* velocity**2 / (diameter*2*gc)\n",
    "\n",
    "#main function to calculate skin friction\n",
    "def f_skin(t_sat, diameter, velocity, relative_roughness, length, gc = 1):\n",
    "    #convert p_sat()\n",
    "    t_sat = t_sat + 273.15\n",
    "    #calculate density and dynamic viscosity from IAPWS 97\n",
    "    sat_steam=IAPWS97(T=t_sat,x=0)  #saturated steam with known P\n",
    "    density = sat_steam.rho * 0.062428\n",
    "    dynamic_viscosity = sat_steam.mu * 0.67196897514\n",
    "    #calculate reynolds number\n",
    "    n_reynolds = reynolds_number(diameter, velocity, density, dynamic_viscosity)\n",
    "    #calculate fannings friction factor\n",
    "    fanning_factor = ff_fanning(n_reynolds, relative_roughness)\n",
    "    print (fanning_factor)\n",
    "    return 4*fanning_factor*length* velocity**2 / (diameter*2*gc)\n",
    "\n",
    "f_skin(82.2, 0.3353, 2.523, 0.000448, 20, gc = 32.174)\n",
    "\n",
    "#skin(0.0048, 185, 0.1722, 9.57, gc = 32.174)\n",
    "#t_sat = 82.2\n",
    "#t_sat = t_sat + 273.15\n",
    "#print (t_sat)\n",
    "#    #calculate density and dynamic viscosity from IAPWS 97\n",
    "#sat_steam=IAPWS97(T=t_sat,x=0)  #saturated steam with known P\n",
    "#density = sat_steam.rho * 0.062428\n",
    "#dynamic_viscosity = sat_steam.mu * 0.67196897514\n",
    "\n",
    "#print(density, dynamic_viscosity)\n"
   ]
  },
  {
   "cell_type": "markdown",
   "metadata": {},
   "source": [
    "A. __Sudden enlargement losses.__ If the cross section of the pipe enlarges suddenly, it results in additional lossesdue to eddies formed by the jet expanding in the enlarged section. This friction loss can be calculated by the following for turbulent flow in both sections:\n",
    "\n",
    "$$ h_{ex} = \\frac {(v_i - v_2)^{2}}{2 \\alpha} \n",
    "    = \\left(1 - \\frac{A_2}{A_1}\\right)^{2} \\frac{v^{2}_1}{2 \\alpha} $$\n",
    "    \n",
    "where $h_{ex}$ is the friction loss in $J/kg, K_{ex}$ is the expansion-loss coefficient and $ = (1-A_1/A_2)^{2}, v_1$ is the upstream velocity in the smaller area in $m/s, v_2$ is the downstream velocity and $\\alpha = 1.0$"
   ]
  },
  {
   "cell_type": "code",
   "execution_count": 56,
   "metadata": {
    "collapsed": false
   },
   "outputs": [
    {
     "data": {
      "text/plain": [
       "0.18482943055499998"
      ]
     },
     "execution_count": 56,
     "metadata": {},
     "output_type": "execute_result"
    }
   ],
   "source": [
    "\"\"\"Function to calculate friction loss from pipe enlargement / expansion\"\"\"\n",
    "def f_expansion(area_upstream, area_downstream, v, alpha=1, gc = 1): #set gc = 32.174 if english units\n",
    "    Kex = 1-(area_upstream/area_downstream)\n",
    "    #print (Kex)\n",
    "    return Kex * v**2 / (2 * alpha * gc)\n",
    "#for flow from pipe to tank where area_downstream >>> area_upstream A1/A2 -> 0\n",
    "f_expansion (1, 1*10**3, 0.6083)"
   ]
  },
  {
   "cell_type": "markdown",
   "metadata": {},
   "source": [
    "B. __Sudden contraction losses.__ When the cross section of the pipe is suddenly reduced, the stream cannot flow around the sharp corner, and additional frictional losses due to eddies occur. For turbulent flow, this is given by:\n",
    "\n",
    "$$ h_c = 0.55 \\left( 1- \\frac{A_2}{A_1} \\right) \\frac{v^{2}_2}{2 \\alpha}  \n",
    "    = K_c \\frac{v^{2}_2} {2 \\alpha} \\frac{J}{kg}  $$\n",
    "    \n",
    "where $h_c$ is the friction loss, $\\alpha = 1.0$ for turbulent flow, $v_2$ is the average velocity in the smaller or downstream section, and $K_c$ is the contraction-loss coefficient (P1) and approximately equals $0.55(1-A_2/A_1)$. For laminar flow, the same equation can be used with $\\alpha = \\frac{1}{2}(S2)$."
   ]
  },
  {
   "cell_type": "code",
   "execution_count": 57,
   "metadata": {
    "collapsed": false
   },
   "outputs": [
    {
     "data": {
      "text/plain": [
       "0.5764746780761116"
      ]
     },
     "execution_count": 57,
     "metadata": {},
     "output_type": "execute_result"
    }
   ],
   "source": [
    "\"\"\"Function to calculate friction loss from pipe contraction\"\"\"\n",
    "def f_contraction(area_upstream, area_downstream, v, alpha = 1, gc = 1): #set gc = 32.174 if english units\n",
    "    Kc = 0.55 * (1- (area_downstream / area_upstream))\n",
    "    return Kc * v**2 / (2 * alpha * gc)\n",
    "#for flow from pipe to tank where area_upstream >>> area_downstream A2/A1 -> 0\n",
    "f_contraction (0.0884, 0.02330, 9.57, gc = 32.174) #0.575"
   ]
  },
  {
   "cell_type": "markdown",
   "metadata": {},
   "source": [
    "C. __Losses in fittings and valves.__ Pipe fittings and valves also disturb the normal flow lines in a pipe and cause additional friction losses. In a short pipe with many fittings, the friction loss from these fittings could be greater than in the straight pipe. The friction loss for fittings and valves is given by the following equation:\n",
    "$$ h_f = K_f \\frac{v^{2}_1}{2}  $$\n",
    "\n",
    "where $K_f$ is the loss factor for the fitting or valve and $v_i$ is the average velocity in the pipe leading to the fitting. Experimental values for $K_f$ are given in the python dictionary \"Kf\" for turbulent flow. For english units, the right side is divided by $g_c$."
   ]
  },
  {
   "cell_type": "code",
   "execution_count": 48,
   "metadata": {
    "collapsed": false
   },
   "outputs": [
    {
     "data": {
      "text/plain": [
       "0.6380565371107105"
      ]
     },
     "execution_count": 48,
     "metadata": {},
     "output_type": "execute_result"
    }
   ],
   "source": [
    "\"\"\"Dictionary for Friction Loss; Turbulent Flow Through Valves and Fittings\"\"\"\n",
    "Kf = {'elbow45': 0.45, 'elbow90': 0.75, 'tee': 1, 'return_bend': 1.5, \\\n",
    "     'coupling': 0.04, 'union': 0.04, 'gate_valve_full': 0.17, \\\n",
    "     'gate_valve_half': 4.5}\n",
    "\n",
    "#Generic function for calculating friction loss thru fittings and valves\n",
    "def fittings (n, Kf, v, gc=1):\n",
    "    return n* Kf * v**2 * 0.5 / gc\n",
    "\n",
    "\"\"\"Total friction loss from fittings and valves\n",
    "-->h_f is a function of Kf and velocity only\n",
    "-->The function will require only velocity as input value; \n",
    "default value for number fittings and valves will be provided\"\"\"\"    \n",
    "def f_fittings (v, n_elbow45 = 0, n_elbow90 = 1, n_tee = 0, n_return_bend = 0, n_coupling = 0, n_union = 0, \\\n",
    "                n_gate_valve_full = 0, n_gate_valve_half = 0, gc = 1): #set gc = 32.174 if english units\n",
    "    Kf = {'elbow45': 0.45, 'elbow90': 0.75, 'tee': 1, 'return_bend': 1.5, \\\n",
    "         'coupling': 0.04, 'union': 0.04, 'gate_valve_full': 0.17, 'gate_valve_half': 4.5}\n",
    "    #f_elbow90= n_elbow90* Kf['elbow90'] * v**2 * 0.5 / gc\n",
    "    f_elbow45 = fittings(n_elbow45, Kf['elbow45'], v, gc)\n",
    "    f_elbow90 = fittings(n_elbow90, Kf['elbow90'], v, gc)\n",
    "    f_tee = fittings(n_tee, Kf['tee'], v, gc)\n",
    "    f_return_bend = fittings(n_return_bend, Kf['return_bend'], v, gc)\n",
    "    f_coupling = fittings(n_coupling, Kf['coupling'], v, gc)\n",
    "    f_union = fittings(n_union, Kf['union'], v, gc)\n",
    "    f_gate_valve_full = fittings(n_gate_valve_full, Kf['gate_valve_full'], v, gc)\n",
    "    f_gate_valve_half = fittings(n_gate_valve_half, Kf['gate_valve_half'], v, gc)\n",
    "    \n",
    "    fittings_total = f_elbow45+f_elbow90+f_tee+f_return_bend+f_coupling+f_union+f_gate_valve_full+f_gate_valve_half\n",
    "    return fittings_total\n",
    "\n",
    "f_fittings(2.523, n_elbow90 = 2, n_elbow45 = 1, n_gate_valve_half = 1, gc = 32.174)"
   ]
  },
  {
   "cell_type": "markdown",
   "metadata": {},
   "source": [
    "# Define functions"
   ]
  }
 ],
 "metadata": {
  "kernelspec": {
   "display_name": "Python 3",
   "language": "python",
   "name": "python3"
  },
  "language_info": {
   "codemirror_mode": {
    "name": "ipython",
    "version": 3
   },
   "file_extension": ".py",
   "mimetype": "text/x-python",
   "name": "python",
   "nbconvert_exporter": "python",
   "pygments_lexer": "ipython3",
   "version": "3.5.2"
  },
  "latex_envs": {
   "bibliofile": "biblio.bib",
   "cite_by": "apalike",
   "current_citInitial": 1,
   "eqLabelWithNumbers": true,
   "eqNumInitial": 0
  }
 },
 "nbformat": 4,
 "nbformat_minor": 0
}
