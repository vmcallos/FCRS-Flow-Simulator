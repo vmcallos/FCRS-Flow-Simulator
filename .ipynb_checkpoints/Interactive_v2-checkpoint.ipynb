{
 "cells": [
  {
   "cell_type": "code",
   "execution_count": 208,
   "metadata": {
    "collapsed": false
   },
   "outputs": [],
   "source": [
    "#Import Libraries\n",
    "import math\n",
    "import numpy as np\n",
    "import matplotlib.pyplot as plt\n",
    "import matplotlib\n",
    "from ipywidgets import interact, interactive, fixed, FloatSlider\n",
    "import ipywidgets as widgets\n",
    "\n",
    "%run conservation_equations.ipynb\n",
    "#%run Interactive.ipynb"
   ]
  },
  {
   "cell_type": "code",
   "execution_count": 209,
   "metadata": {
    "collapsed": false
   },
   "outputs": [],
   "source": [
    "def pressure_drop(Diameter, MassFlow, InletPressure, Length, Elbow_90, GateValve_FullyOpen, ThermalConductivity, InsulationThickness):\n",
    "    '''Calculate parameters from steam table'''\n",
    "    sat_steam = IAPWS97(P = InletPressure, x=1)\n",
    "    temperature = sat_steam.T\n",
    "    density = sat_steam.rho\n",
    "    enthalpy =  sat_steam.h\n",
    "    dynamic_viscosity = sat_steam.mu\n",
    "    #print(temperature, density, dynamic_viscosity, enthalpy)\n",
    "    \n",
    "    '''Calculate Derived Parameters'''\n",
    "    Diameter = Diameter * 0.0254\n",
    "    #Relative roughness\n",
    "    roughness = 0.000046\n",
    "    relative_roughness = roughness / Diameter\n",
    "    #cross sectional area\n",
    "    area = math.pi * Diameter**2 / 4\n",
    "    #for straight pipe\n",
    "    area2 = area\n",
    "    #velocity\n",
    "    velocity = MassFlow / (density * area)\n",
    "    #print(velocity, area)\n",
    "    \n",
    "    '''Skin Friction Calculation'''\n",
    "    nRE = reynolds_number(Diameter, velocity, density, dynamic_viscosity)\n",
    "    friction_factor = ff_colebrook(nRE, relative_roughness)\n",
    "    friction_skin = f_skin(temperature, Diameter, velocity, relative_roughness, Length)\n",
    "    \n",
    "    '''Pipe Enlargement and contraction '''\n",
    "    friction_expansion = f_expansion(area, area2, velocity)\n",
    "    friction_contraction = f_contraction(area, area2, velocity)\n",
    "    \n",
    "    \"\"\"Define Fittings\"\"\"\n",
    "    #Represent in a list of 8\n",
    "    fittings_list = [0, 2, 0, 0, 0, 0, 0, 0]\n",
    "    fittings_list[1] = Elbow_90\n",
    "    fittings_list[6] = GateValve_FullyOpen\n",
    "    #fittings [0] = elbow_45  #fittings [1] = elbow_90\n",
    "    #fittings [2] = tee       #fittings [3] = return_bend\n",
    "    #fittings [4] = coupling  #fittings [5] = union\n",
    "    #fittings [6] = gate_valve_full  #fittings [7] = gate_valve_half\n",
    "    '''Losses in fittings and valves'''\n",
    "    friction_fittings = f_fittings(velocity, fittings_list)\n",
    "    #print (velocity, friction_fittings)\n",
    "    \n",
    "    '''Calulate total friction losses'''\n",
    "    friction_total = friction_skin + friction_expansion + friction_contraction + friction_fittings\n",
    "    \n",
    "    \n",
    "    '''Define Parameters for heat loss'''\n",
    "    #Convective heat transfer coefficient (h; W/m**K)\n",
    "    h_steam_pipe = 36\n",
    "    h_insulation_air = 7\n",
    "    #Insulation\n",
    "    t_insulation = InsulationThickness * 0.0254    #insulation thickness (m)\n",
    "    k_insulation = ThermalConductivity          #insulation's thermal conductivity (W/m** K)\n",
    "    #Pipe\n",
    "    t_pipe = 0.5 * 0.0254         #pipeline thickness (m)\n",
    "    k_pipe = 56           #pipe's thermal conductivity (W/m** K)\n",
    "    #id_pipe = 0.25        #pipe's inner diameter (m) given at diameter\n",
    "    #l_pipe = 6000         #length of pipeline (m) given at length\n",
    "    #Temp\n",
    "    t1 = temperature - 273.15           #temp inside the pipeline\n",
    "    t2 = 25                             #temp; atmospheric\n",
    "    \n",
    "    r1 = Diameter\n",
    "    r2 = Diameter + t_pipe\n",
    "    r3 = Diameter + t_pipe + t_insulation\n",
    "    \n",
    "    h_t = heat_transfer(Length, t1, t2, h_steam_pipe, h_insulation_air, k_pipe, k_insulation, r1, r2, r3)\n",
    "    Q = h_t / MassFlow\n",
    "    \n",
    "    \n",
    "    '''Calculate gdZ'''\n",
    "    gdz = head(655, 613)\n",
    "\n",
    "    \n",
    "    '''Calculate outlet pressure'''\n",
    "    udu = 0\n",
    "    p2 = p_out(InletPressure, friction_total, gdz, udu, density, Q )\n",
    "    \n",
    "    print('{:22}'.format('Heat Loss (J/kg)'), '{:>16.2f}'.format(-Q))\n",
    "    print ('{:22}'.format('Head (J/kg)'), '{:>16.2f}'.format(gdz))\n",
    "    print ('{:22}'.format('Friction Loss (J/kg)'), '{:>16.2f}'.format(friction_total))\n",
    "    print ('{:22}'.format('Outlet Pressure (Mpa)'), '{:>16.2f}'.format(p2))"
   ]
  },
  {
   "cell_type": "code",
   "execution_count": 210,
   "metadata": {
    "collapsed": false
   },
   "outputs": [
    {
     "name": "stdout",
     "output_type": "stream",
     "text": [
      "Heat Loss (J/kg)                6998.38\n",
      "Head (J/kg)                      412.02\n",
      "Friction Loss (J/kg)            6391.40\n",
      "Outlet Pressure (Mpa)              0.83\n"
     ]
    }
   ],
   "source": [
    "dia_widget = FloatSlider(min=1.0, max=42.0, step=1, value = 29)\n",
    "mf_widget = FloatSlider(min=1.0, max=100.0, step=1, value = 51)\n",
    "inpressure_widget = FloatSlider(min=0.60, max=1.0, step=0.01, value=0.8862)\n",
    "length_widget = FloatSlider(min=10, max=5000, step=10, value=580)\n",
    "elbow90_widget = FloatSlider(min=0, max=80, step=1, value=8)\n",
    "gv_open_widget = FloatSlider(min=0, max=10, step=1, value=1)\n",
    "x_widget = FloatSlider(min=0.01, max=0.2, step=0.005, value = 0.05)      #thermal conductivity 0 to 0.1\n",
    "y_widget = FloatSlider(min=0.0, max=8.0, step=0.1, value=2.0)           #thickness 0 to 10\n",
    "\n",
    "interact(pressure_drop, Diameter= dia_widget, MassFlow = mf_widget, InletPressure = inpressure_widget,\\\n",
    "        Length= length_widget, Elbow_90=elbow90_widget, GateValve_FullyOpen = gv_open_widget, ThermalConductivity=x_widget, \\\n",
    "        InsulationThickness=y_widget)"
   ]
  }
 ],
 "metadata": {
  "kernelspec": {
   "display_name": "Python 3",
   "language": "python",
   "name": "python3"
  },
  "language_info": {
   "codemirror_mode": {
    "name": "ipython",
    "version": 3
   },
   "file_extension": ".py",
   "mimetype": "text/x-python",
   "name": "python",
   "nbconvert_exporter": "python",
   "pygments_lexer": "ipython3",
   "version": "3.5.2"
  },
  "latex_envs": {
   "bibliofile": "biblio.bib",
   "cite_by": "apalike",
   "current_citInitial": 1,
   "eqLabelWithNumbers": true,
   "eqNumInitial": 0
  }
 },
 "nbformat": 4,
 "nbformat_minor": 0
}
