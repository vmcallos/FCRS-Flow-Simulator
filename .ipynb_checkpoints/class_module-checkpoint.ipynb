{
 "cells": [
  {
   "cell_type": "code",
   "execution_count": null,
   "metadata": {
    "collapsed": true
   },
   "outputs": [],
   "source": [
    "class node:\n",
    "    def __init__(self, nodeID, P, mf, z):\n",
    "        self.nodeID = nodeID\n",
    "        self.P = P\n",
    "        self.mf = mf\n",
    "        self.z = z\n",
    "    def __str__ (self):\n",
    "        return \"Mass Flow = %8s, %.2f\" % (self.nodeID,self.mf)\n",
    "        \n",
    "class pipeline:\n",
    "     def __init__(self, lineID, length, in_dia, roughness, pipe_t, insul_t, pipe_k, insul_k, n_elbow45, n_elbow90, n_tee, \\\n",
    "                 n_rbend, n_coupling, n_union, n_gatefull, n_gatehalf, out_dia):\n",
    "        self.length = length\n",
    "        self.in_dia = in_dia \n",
    "        self.roughness = roughness\n",
    "        self.pipe_t = pipe_t \n",
    "        self.insul_t = insul_t \n",
    "        self.pipe_k = pipe_k\n",
    "        self.insul_k = insul_k\n",
    "        self.n_elbow45 = n_elbow45\n",
    "        self.n_elbow90 = n_elbow90\n",
    "        self.n_tee = n_tee\n",
    "        self.n_rbend = n_rbend\n",
    "        self.n_coupling = n_coupling\n",
    "        self.n_union = n_union\n",
    "        self.n_gatefull = n_gatefull\n",
    "        self.n_gatehalf = n_gatehalf\n",
    "        self.out_dia = out_dia     #for pipe expansion or contraction"
   ]
  }
 ],
 "metadata": {
  "kernelspec": {
   "display_name": "Python 3",
   "language": "python",
   "name": "python3"
  },
  "language_info": {
   "codemirror_mode": {
    "name": "ipython",
    "version": 3
   },
   "file_extension": ".py",
   "mimetype": "text/x-python",
   "name": "python",
   "nbconvert_exporter": "python",
   "pygments_lexer": "ipython3",
   "version": "3.5.2"
  },
  "latex_envs": {
   "bibliofile": "biblio.bib",
   "cite_by": "apalike",
   "current_citInitial": 1,
   "eqLabelWithNumbers": true,
   "eqNumInitial": 0
  }
 },
 "nbformat": 4,
 "nbformat_minor": 0
}
