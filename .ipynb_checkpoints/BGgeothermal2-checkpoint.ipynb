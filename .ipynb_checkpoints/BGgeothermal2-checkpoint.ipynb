{
 "cells": [
  {
   "cell_type": "code",
   "execution_count": 8,
   "metadata": {
    "collapsed": false
   },
   "outputs": [],
   "source": [
    "# test the BOM equation to separator vessel\n",
    "#from t2thermo import *\n",
    "#from PyTOUGH import *\n",
    "\n",
    "class WellClass(object):\n",
    "    ''' I want this to access the BOC equations, calculate the two-phase mass flow and enthalpy of the fluid from the well \n",
    "    and lastly, to tap the separator vessel'''\n",
    "    def __init__(self, whp, mf1, mf2, mf3, mf4, mf5, mf6, h1, h2, h3, h4, h5):\n",
    "        self.owhp = whp\n",
    "        #print(self.owhp)\n",
    "        self.mf1 = mf1\n",
    "        self.mf2 = mf2\n",
    "        self.mf3 = mf3\n",
    "        self.mf4 = mf4\n",
    "        self.mf5 = mf5\n",
    "        self.mf6 = mf6\n",
    "        self.h1 = h1\n",
    "        self.h2 = h2\n",
    "        self.h3 = h3\n",
    "        self.h4 = h4\n",
    "        self.h5 = h5\n",
    "\n",
    "    def massflow(self):\n",
    "        #print(self.owhp)\n",
    "        self.massflow = self.mf1 + (self.mf2 * self.owhp) + (self.mf3 * self.owhp**2) + (self.mf4 * self.owhp**3) + \\\n",
    "        (self.mf5 * self.owhp**4) + (self.mf6 * self.owhp**5)\n",
    "        return self.massflow\n",
    "\n",
    "    def enthalpy(self):\n",
    "        self.enthalpy = self.h1 + (self.h2 * self.owhp) + (self.h3 * self.owhp**2) + (self.h4 * self.owhp**3) + \\\n",
    "        (self.h5 * self.owhp**4)\n",
    "        return self.enthalpy\n",
    "\n",
    "class VesselClass(object):\n",
    "    def __init__(self, separatorPressure):\n",
    "        self.sepP = separatorPressure"
   ]
  }
 ],
 "metadata": {
  "kernelspec": {
   "display_name": "Python 3",
   "language": "python",
   "name": "python3"
  },
  "language_info": {
   "codemirror_mode": {
    "name": "ipython",
    "version": 3
   },
   "file_extension": ".py",
   "mimetype": "text/x-python",
   "name": "python",
   "nbconvert_exporter": "python",
   "pygments_lexer": "ipython3",
   "version": "3.5.2"
  },
  "latex_envs": {
   "bibliofile": "biblio.bib",
   "cite_by": "apalike",
   "current_citInitial": 1,
   "eqLabelWithNumbers": true,
   "eqNumInitial": 0
  }
 },
 "nbformat": 4,
 "nbformat_minor": 0
}
