{
 "cells": [
  {
   "cell_type": "code",
   "execution_count": 80,
   "metadata": {
    "collapsed": false
   },
   "outputs": [],
   "source": [
    "import math\n",
    "import matplotlib.pyplot as plt"
   ]
  },
  {
   "cell_type": "markdown",
   "metadata": {},
   "source": [
    "## Define given parameters"
   ]
  },
  {
   "cell_type": "code",
   "execution_count": 4,
   "metadata": {
    "collapsed": true
   },
   "outputs": [],
   "source": [
    "#Convective heat transfer coefficient (h; W/m**K)\n",
    "h_steam_pipe = 36\n",
    "h_insulation_air = 7\n",
    "#Insulation\n",
    "t_insulation = 0.10    #insulation thickness (m)\n",
    "k_insulation = 0.082   #insulation's thermal conductivity (W/m** K)\n",
    "#Pipe\n",
    "t_pipe = 0.01         #pipeline thickness (m)\n",
    "k_pipe = 56           #pipe's thermal conductivity (W/m** K)\n",
    "id_pipe = 0.25        #pipe's inner diameter (m)\n",
    "l_pipe = 2200         #length of pipeline (m)\n",
    "#Temp\n",
    "t1 = 180.21           #temp inside the pipeline\n",
    "t2 = 23               #temp; atmospheric "
   ]
  },
  {
   "cell_type": "markdown",
   "metadata": {},
   "source": [
    "## Define sub functions"
   ]
  },
  {
   "cell_type": "code",
   "execution_count": 5,
   "metadata": {
    "collapsed": true
   },
   "outputs": [],
   "source": [
    "def convection (h, r):\n",
    "    \"\"\"convective heat transport steam and inner pipe\"\"\"\n",
    "    return 1/(h*r)\n",
    "\n",
    "def conduction (r1, r2, k):\n",
    "    return math.log(r2/r1) / k\n",
    "\n",
    "def heat_transfer(L, t_in, t_out, h_in, h_out, k_a, k_b, r1, r2, r3):\n",
    "    pi_2 = 2 * math.pi\n",
    "    numerator = pi_2 * L * (t_in - t_out)\n",
    "    #print numerator\n",
    "    c1 = convection(h_in, r1)\n",
    "    #print c1\n",
    "    c2 = conduction(r1, r2, k_a)\n",
    "    #print c2\n",
    "    c3 = conduction(r2, r3, k_b)\n",
    "    #print c3\n",
    "    c4 = convection(h_out, r3)\n",
    "    #print c4\n",
    "    c_tot = c1 + c2 + c3 + c4\n",
    "    return -(numerator / c_tot)"
   ]
  },
  {
   "cell_type": "code",
   "execution_count": 7,
   "metadata": {
    "collapsed": false
   },
   "outputs": [
    {
     "name": "stdout",
     "output_type": "stream",
     "text": [
      "2173115.03671\n",
      "0.111111111111\n",
      "0.000700369877737\n",
      "3.96856585896\n",
      "0.396825396825\n"
     ]
    }
   ],
   "source": [
    "r1 = id_pipe\n",
    "r2 = id_pipe + t_pipe\n",
    "r3 = id_pipe + t_pipe + t_insulation\n",
    "\n",
    "heat_loss = heat_transfer(l_pipe, t1, t2, h_steam_pipe, h_insulation_air, k_pipe, k_insulation, r1, r2, r3)\n",
    "#print heat_loss"
   ]
  },
  {
   "cell_type": "markdown",
   "metadata": {},
   "source": [
    "# VMC Heading-tutorials\n",
    "\n",
    "This is my version of tutorial"
   ]
  },
  {
   "cell_type": "code",
   "execution_count": 34,
   "metadata": {
    "collapsed": false
   },
   "outputs": [
    {
     "name": "stdout",
     "output_type": "stream",
     "text": [
      "Hello World!!!\n",
      "6\n"
     ]
    },
    {
     "data": {
      "text/plain": [
       "3.0"
      ]
     },
     "execution_count": 34,
     "metadata": {},
     "output_type": "execute_result"
    }
   ],
   "source": [
    "print \"Hello World!!!\"\n",
    "4-8\n",
    "3**2\n",
    "8/3.0\n",
    "8%3\n",
    "math.log10(1000)"
   ]
  },
  {
   "cell_type": "markdown",
   "metadata": {},
   "source": [
    "## Now lets move on to variables"
   ]
  },
  {
   "cell_type": "code",
   "execution_count": 51,
   "metadata": {
    "collapsed": false
   },
   "outputs": [
    {
     "name": "stdout",
     "output_type": "stream",
     "text": [
      "5.0\n"
     ]
    },
    {
     "data": {
      "text/plain": [
       "False"
      ]
     },
     "execution_count": 51,
     "metadata": {},
     "output_type": "execute_result"
    }
   ],
   "source": [
    "a=2.\n",
    "b=3\n",
    "print a+b\n",
    "\n",
    "type(str(a))\n",
    "a == b\n"
   ]
  },
  {
   "cell_type": "code",
   "execution_count": 84,
   "metadata": {
    "collapsed": false
   },
   "outputs": [
    {
     "name": "stdout",
     "output_type": "stream",
     "text": [
      "True\n",
      "101\n",
      "102\n",
      "103\n",
      "104\n",
      "105\n",
      "107\n",
      "109\n",
      "111\n",
      "[1, 2, 3, 4, 5, 7, 9, 11]\n"
     ]
    },
    {
     "data": {
      "text/plain": [
       "[<matplotlib.lines.Line2D at 0x797a908>]"
      ]
     },
     "execution_count": 84,
     "metadata": {},
     "output_type": "execute_result"
    },
    {
     "data": {
      "image/png": "[encoded data removed]",
      "text/plain": [
       "<matplotlib.figure.Figure at 0x7759ac8>"
      ]
     },
     "metadata": {},
     "output_type": "display_data"
    }
   ],
   "source": [
    "\"\"\"Comment din ito\"\"\"\n",
    "#Syempre ito\n",
    "\n",
    "#c = 3 != 4\n",
    "print c\n",
    "x = [1,2,3,4,5,7,9,11]\n",
    "y = [4,5,6,4,5,4,4,4]\n",
    "len(x)\n",
    "x[7]\n",
    "for element in x:\n",
    "    print element + 100\n",
    "print x\n",
    "%matplotlib inline\n",
    "plt.plot(x,y)"
   ]
  },
  {
   "cell_type": "markdown",
   "metadata": {},
   "source": [
    "# Functions"
   ]
  },
  {
   "cell_type": "code",
   "execution_count": 86,
   "metadata": {
    "collapsed": true
   },
   "outputs": [],
   "source": [
    "def area_circle(radius):\n",
    "    area_circle = math.pi * radius**2\n",
    "    return area_circle"
   ]
  },
  {
   "cell_type": "code",
   "execution_count": 88,
   "metadata": {
    "collapsed": false
   },
   "outputs": [
    {
     "name": "stdout",
     "output_type": "stream",
     "text": [
      "28.2743338823\n",
      "28.2743338823\n"
     ]
    }
   ],
   "source": [
    "y = 3\n",
    "area = area_circle(y)\n",
    "print area\n",
    "print area_circle(3)"
   ]
  }
 ],
 "metadata": {
  "kernelspec": {
   "display_name": "Python 2",
   "language": "python",
   "name": "python2"
  },
  "language_info": {
   "codemirror_mode": {
    "name": "ipython",
    "version": 2
   },
   "file_extension": ".py",
   "mimetype": "text/x-python",
   "name": "python",
   "nbconvert_exporter": "python",
   "pygments_lexer": "ipython2",
   "version": "2.7.11"
  }
 },
 "nbformat": 4,
 "nbformat_minor": 0
}
