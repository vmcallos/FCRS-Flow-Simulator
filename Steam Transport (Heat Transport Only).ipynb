{
 "cells": [
  {
   "cell_type": "code",
   "execution_count": 6,
   "metadata": {
    "collapsed": true
   },
   "outputs": [],
   "source": [
    "import math\n",
    "import matplotlib.pyplot as plt"
   ]
  },
  {
   "cell_type": "markdown",
   "metadata": {},
   "source": [
    "## Define given parameters"
   ]
  },
  {
   "cell_type": "code",
   "execution_count": 7,
   "metadata": {
    "collapsed": true
   },
   "outputs": [],
   "source": [
    "#Convective heat transfer coefficient (h; W/m**K)\n",
    "h_steam_pipe = 36\n",
    "h_insulation_air = 7\n",
    "#Insulation\n",
    "t_insulation = 0.10    #insulation thickness (m)\n",
    "k_insulation = 0.082   #insulation's thermal conductivity (W/m** K)\n",
    "#Pipe\n",
    "t_pipe = 0.01         #pipeline thickness (m)\n",
    "k_pipe = 56           #pipe's thermal conductivity (W/m** K)\n",
    "id_pipe = 0.25        #pipe's inner diameter (m)\n",
    "l_pipe = 2200         #length of pipeline (m)\n",
    "#Temp\n",
    "t1 = 180.21           #temp inside the pipeline\n",
    "t2 = 23               #temp; atmospheric "
   ]
  },
  {
   "cell_type": "markdown",
   "metadata": {},
   "source": [
    "## Define sub functions"
   ]
  },
  {
   "cell_type": "code",
   "execution_count": 8,
   "metadata": {
    "collapsed": true
   },
   "outputs": [],
   "source": [
    "def convection (h, r):\n",
    "    \"\"\"convective heat transport steam and inner pipe\"\"\"\n",
    "    return 1/(h*r)\n",
    "\n",
    "def conduction (r1, r2, k):\n",
    "    return math.log(r2/r1) / k\n",
    "\n",
    "def heat_transfer(L, t_in, t_out, h_in, h_out, k_a, k_b, r1, r2, r3):\n",
    "    pi_2 = 2 * math.pi\n",
    "    numerator = pi_2 * L * (t_in - t_out)\n",
    "    #print numerator\n",
    "    c1 = convection(h_in, r1)\n",
    "    #print c1\n",
    "    c2 = conduction(r1, r2, k_a)\n",
    "    #print c2\n",
    "    c3 = conduction(r2, r3, k_b)\n",
    "    #print c3\n",
    "    c4 = convection(h_out, r3)\n",
    "    #print c4\n",
    "    c_tot = c1 + c2 + c3 + c4\n",
    "    return -(numerator / c_tot)"
   ]
  },
  {
   "cell_type": "code",
   "execution_count": 14,
   "metadata": {
    "collapsed": false
   },
   "outputs": [
    {
     "name": "stdout",
     "output_type": "stream",
     "text": [
      "-485373.38255 watts\n"
     ]
    }
   ],
   "source": [
    "r1 = id_pipe\n",
    "r2 = id_pipe + t_pipe\n",
    "r3 = id_pipe + t_pipe + t_insulation\n",
    "\n",
    "heat_loss = heat_transfer(l_pipe, t1, t2, h_steam_pipe, h_insulation_air, k_pipe, k_insulation, r1, r2, r3)\n",
    "print heat_loss, \"watts\""
   ]
  },
  {
   "cell_type": "markdown",
   "metadata": {},
   "source": [
    "\\section{First section}\n",
    "\\textbf{Hello}\n",
    "$\n",
    "\\begin{equation} \n",
    "c = \\sqrt{a^2 + b^2}\n",
    "\\end{equation}\n",
    "$\n",
    "\\begin{itemize}\n",
    "\\item First item\n",
    "\\item Second item\n",
    "\\end{itemize}\n",
    "\\textbf{World}"
   ]
  },
  {
   "cell_type": "code",
   "execution_count": 20,
   "metadata": {
    "collapsed": false
   },
   "outputs": [
    {
     "ename": "SyntaxError",
     "evalue": "invalid syntax (<ipython-input-20-5d2219167bee>, line 4)",
     "output_type": "error",
     "traceback": [
      "\u001b[1;36m  File \u001b[1;32m\"<ipython-input-20-5d2219167bee>\"\u001b[1;36m, line \u001b[1;32m4\u001b[0m\n\u001b[1;33m    $ c = \\sqrt{a^2 + b^2} $\u001b[0m\n\u001b[1;37m    ^\u001b[0m\n\u001b[1;31mSyntaxError\u001b[0m\u001b[1;31m:\u001b[0m invalid syntax\n"
     ]
    }
   ],
   "source": [
    "from IPython.display import display, Math, Latex\n",
    "display(Math(r'F(k) = \\int_{-\\infty}^{\\infty} f(x) e^{2\\pi i k} dx'))\n",
    "\n"
   ]
  }
 ],
 "metadata": {
  "kernelspec": {
   "display_name": "Python 2",
   "language": "python",
   "name": "python2"
  },
  "language_info": {
   "codemirror_mode": {
    "name": "ipython",
    "version": 2
   },
   "file_extension": ".py",
   "mimetype": "text/x-python",
   "name": "python",
   "nbconvert_exporter": "python",
   "pygments_lexer": "ipython2",
   "version": "2.7.12"
  }
 },
 "nbformat": 4,
 "nbformat_minor": 0
}
